{
 "cells": [
  {
   "cell_type": "markdown",
   "metadata": {},
   "source": [
    "--- \n",
    "Project for the course in Microeconometrics | Summer 2020, M.Sc. Economics, Bonn University | [Marc Kerstan](https://github.com/McKers)\n",
    "\n",
    "# Replication of Thushyanthan Baskaran and Zohal Hessami (2018) <a class=\"tocSkip\">   \n",
    "---"
   ]
  },
  {
   "cell_type": "markdown",
   "metadata": {},
   "source": [
    "In this notebook are my results of the replication of the core results of the following paper:  \n",
    "\n",
    "* Baskaran, Thushyanthan, and Zohal Hessami. 2018. \"Does the Election of a Female Leader Clear the Way for More Women in Politics?\" American Economic Journal: Economic Policy, 10 (3): 95-121. DOI: 10.1257/pol.20170045\n",
    "\n",
    "- The original paper and its corresponding data are  available at: https://www.aeaweb.org/articles?id=10.1257/pol.20170045. <br>\n",
    "\n",
    "- For the purpose of comparison are all tables and figures presented in section 5 named as in the original paper\n"
   ]
  },
  {
   "cell_type": "markdown",
   "metadata": {},
   "source": [
    "---"
   ]
  },
  {
   "cell_type": "code",
   "execution_count": 1,
   "metadata": {},
   "outputs": [],
   "source": [
    "import pandas as pd\n",
    "import numpy as np \n",
    "import matplotlib.pyplot as plt \n",
    "import matplotlib.image as mpimg\n",
    "import seaborn as sb\n",
    "import statsmodels as sm\n",
    "import statsmodels.formula.api as smf\n",
    "import statsmodels.api as sm_api\n",
    "import scipy.interpolate\n",
    "import rpy2\n",
    "import rpy2.robjects as ro"
   ]
  },
  {
   "cell_type": "code",
   "execution_count": 2,
   "metadata": {},
   "outputs": [],
   "source": [
    "from rpy2.robjects.packages import importr\n",
    "from rpy2.robjects import DataFrame, FloatVector\n",
    "from matplotlib.pyplot import figure\n",
    "from auxiliary.functions import *\n",
    "from auxiliary.data_processing import *\n",
    "from auxiliary.plots import *\n",
    "from localreg import *\n",
    "from IPython.display import Image"
   ]
  },
  {
   "cell_type": "markdown",
   "metadata": {},
   "source": [
    "---"
   ]
  },
  {
   "cell_type": "code",
   "execution_count": 3,
   "metadata": {},
   "outputs": [],
   "source": [
    "utils = importr(\"utils\")\n",
    "utils.chooseCRANmirror(ind=1)\n",
    "utils.install_packages(\"rdrobust\")\n",
    "utils.install_packages(\"foreign\")\n",
    "utils.install_packages(\"rdd\")\n",
    "rdrobust =importr(\"rdrobust\")\n",
    "rddpack=importr(\"foreign\")\n",
    "rddpack=importr(\"rdd\")\n",
    "grdevices = importr('grDevices')"
   ]
  },
  {
   "cell_type": "markdown",
   "metadata": {},
   "source": [
    "---\n",
    "# Table of contents\n",
    "1. [Introduction](#introduction)\n",
    "2. [Experiment Setting & Voting System](#Experiment_Setting_&_Voting_System)\n",
    "3. [Identification](#ID)\n",
    "4. [Empirical Analysis](#Empirical_Analysis)    \n",
    "5. [Replication Study](#Replication_Study) \n",
    "    1. [Data and Descriptive Summary](#Data_and_Descriptive_Summary)\n",
    "    2. [Vailidity of the RD Design](#Vailidity_of_the_RD_Design)\n",
    "        1. [Pretreatment Municipality Characteristics](#Pretreatment_Municipality_Characteristics)\n",
    "        2. [Discontinuity in Density](#Discontinuity_in_Density)\n",
    "        3. [Confoundedness with Mayor Ideology](#Confoundedness_with_Mayor_Ideology)\n",
    "    3. [Main Results](#Main_Results)\n",
    "        1. [Graphical Evidence](#Graphical_Evidence)\n",
    "        2. [Main Result I](#Main_Result_I)\n",
    "        3. [Main Result II](#Main_Result_II)\n",
    "6. [Extension](#Extension) \n",
    "    1. [Data and Descriptive Summary for Main Analysis](#Data_and_Descriptive_Summary_for_Main_Analysis)\n",
    "    2. [Treatment Effect Heterogeneity with Regards to Council Candidate Characteristics](#Treatment_Effect_Heterogeneity_with_Regards_to_Council_Candidate_Characteristics)\n",
    "7. [Critical Assessment and Conclusion](#Critical_Assessment_and_Conclusion) \n",
    "8. [References](#Keks)\n"
   ]
  },
  {
   "cell_type": "markdown",
   "metadata": {},
   "source": [
    "---\n",
    "# 1. Introduction <a name=\"introduction\"></a>\n",
    "---"
   ]
  },
  {
   "cell_type": "markdown",
   "metadata": {},
   "source": [
    "Baskaran & Hessami (2018) analyze the impact of the election of a female mayor on the subsequent electoral results of female local council candidates. The setting of this analyzes is the german federal State Hesse where both, the mayor and the local council are important administrative/political institutions on a municipality-level. The election of the local council follows an open list electoral rule, which enables the authors to measure the performance of candidates with two independent variables. The first is the election status, meaning that a female candidate has been elected to the local council or not. The second variable is the rank improvement of a candidate on their party list. Since voters can allocate their votes relatively freely across parties and candidates, individual candidates can be promoted or demoted on their party list. By relating rank improvement on the party list to the gender of a candidate the authors can assess the performance of female candidates, regardless of election status. <br>\n",
    "As women generally remain underrepresented in politics the analysis by the authors gives insight on how voters react to female politicians and through which channels underrepresentation of women in politics can be counteracted. By implementing a **regression discontinuity design** for **close gender-mixed mayor elections** the authors find a significant positive effect on the performance of female candidates in council elections if a  female mayor has been elected into office in the previous election. This leads the authors to conclude that the election of a high ranking female politician reduces anti-female voter bias, in turn suggesting that an effective way to eliminate the underrepresentation of women in politics is to encourage women to compete for high ranking political office. Overall my replication supports the findings made by Baskaran & Hessami (2018).\n"
   ]
  },
  {
   "cell_type": "markdown",
   "metadata": {},
   "source": [
    "\n",
    "\n",
    "| **Treatment**  | **Main outcomes**  | **Assignment Variable**  | **Main Covariates**  |\n",
    "|---|---|---|----|\n",
    "| Female Mayor   |  Rank Improvment   | Margin of Victory        | Municipality Characteristics   |\n",
    "|                |  Election Status   |                          | Party of Mayor  |"
   ]
  },
  {
   "cell_type": "markdown",
   "metadata": {},
   "source": [
    "The remainder of this notebook is structured as follows. Section 2 describes the experimental setting and the voting systems as presented by Baskaran and Hessami (2018). Their strategy to identify a causal effect the authors will be shown in section 3. Section 4 explains the empirical methodology used by the authors. In section 5, I conduct my replication study of the main results. Extensions to the original paper are in section 6 and section 7 concludes this notebook."
   ]
  },
  {
   "cell_type": "markdown",
   "metadata": {},
   "source": [
    "---\n",
    "# 2. Experiment Setting & Voting System <a name=\"Experiment_Setting_&_Voting_System\"></a>\n",
    "---"
   ]
  },
  {
   "cell_type": "markdown",
   "metadata": {},
   "source": [
    "Generally speaking, municipalities and equivalently municipality administrations in Hesse have enough (political) autonomy to affect the life of its citizens. They provide various public goods such as daycare facilities and social services, while also determining several regulations such as traffic rules or closing hours. Political decision-makers in the city council can, therefore, excel a significant influence on their citizens. <br>\n",
    "The single highest-ranking official within a municipality is its mayor. The mayor is appointed for six years through the election by the citizens of that municipality. In most cases, a candidate for mayors office is a member of a party in the municipality (although it is possible to run as an independent candidate). Consequently, a small and a large field of candidates is possible. The winner of the election is determined by absolute majority rule in a maximum of two election rounds. If in the first round no candidate can reach an absolute majority of votes, a second-round will be conducted, with the two candidates, that received the most votes in the first round. The winner of that round becomes the elected mayor of that municipality. <br>\n",
    "On a municipality level, the main decision-making body is the local council (that can be interpreted as a municipality-level parlament). It monitors the administration and decides upon important local policy decisions.\n",
    "For all municipalities in Hesse, the election of council members takes place at a uniform date, and council members are elected for five years. The voting system follows an open-list electoral rule, which has two key properties for the analysis of Baskaran and Hessami (2018). The first one is that before the election parties set up a list of candidates for the upcoming election. On this list, every candidate is assigned a rank, ranging from one to the maximum number of council seats available (a lower number of candidates than council seats, is equally possible).<br> For an individual candidate to become a council member two factors are relevant. First, the number of list candidates that are elected is determined by the overall share of votes a party receives. Secondly, which candidate becomes a city council member is influenced by the rank of the candidate, where ranks with a lower number are advantageous as it increases the likelihood of receiving a council seat.<br>\n",
    "The second relevant property is that voters can allocate their votes in various manners. Generally, every voter has as many votes as there are council seats available. The simplest way would be to make a cross for the entire party. Assuming that the list has as many candidates as there are council seats, every candidate would receive one vote. In the case that the list is shorter than the number of candidates, the first few candidates would receive an additional vote until the maximum number of votes is reached. Next, there is the possibility to strike out individual candidates on a party list, resulting again in additional votes for the candidates placed at the top of the list. However, there is also the possibility to allocate the votes on individual candidates across different parties, where three votes are the maximum a candidate can receive from one voter. This enables candidates to accumulate more votes than the candidate placed in front of him in the initial list. That implies that the candidate would move up in ranks the post-election list and has an increased chance of receiving a set. Intuitively, this rank improvement expresses the preference for a specific candidate relative to other candidates, independent of the appointment to the city council."
   ]
  },
  {
   "cell_type": "markdown",
   "metadata": {},
   "source": [
    "---\n",
    "# 3. Identification <a name=\"ID\"></a>\n",
    "---"
   ]
  },
  {
   "cell_type": "markdown",
   "metadata": {},
   "source": [
    "Baskaran and Hessami (2018) analyze the impact of a female mayor on the average performance of female council candidates. Ideally, one would set up a randomized experiment to quantify the effect of such treatment, where municipalities are randomly assigned to treatment and control groups. The election of a female mayor can then be interpreted as an exogenous treatment for the municipality. One can then compare the performance of female candidates in the subsequent council election of the treatment group and the control group to determine the average treatment effect. Since treatment is assigned randomly we can neglect underlying characteristics in municipalities which might affect the magnitude of the treatment effect on female council candidate performance.<br> Denoting the average performance of a female council candidate as $Y$ and the corresponding treatment indicator as $D$, the average treatment effect is the difference in expected outcomes, conditional on treatment status:\n",
    "<br>\n",
    "\\begin{equation} \n",
    "E[Y\\mid D=1]-E[Y\\mid D=0]=\\tau_{r}\n",
    "\\end{equation}\n",
    "<br>\n",
    "where D is 1 if a female mayor has been \"assigned\" in the last election and 0 for the other case. $\\tau$ is then our unbiased average treatment effect. <br>\n",
    "However, the expression above does not result in an unbiased estimator of the treatment effect in the setting by Baskaran and Hessami (2018). This is because in this environment treatment assignment is not random, but determined by the outcome of an election. Due to the complex nature of voting decisions in political elections, it is reasonable to assume that there are many possible confounding factors when it comes to the choice if a municipality selects into treatment by electing a female mayor (and vice versa). An intuitive example in this context would be a possible distaste for women in politics. If such a confounding factor is present, this would not only affect the performance of a female council candidate but also the assignment into treatment and control group, as it is unlikely for a municipality with such a distaste to select into treatment. An unbiased estimation based on the equation above is then not possible because treated and untreated groups differ significantly in their observable and unobservable characteristics. This problem can be visualized by causal graph 1.  "
   ]
  },
  {
   "cell_type": "markdown",
   "metadata": {},
   "source": [
    "Causal Graph 1"
   ]
  },
  {
   "cell_type": "markdown",
   "metadata": {},
   "source": [
    "![ERROR:Here should be causal graph 1](files/causalgraph1.PNG)"
   ]
  },
  {
   "cell_type": "markdown",
   "metadata": {},
   "source": [
    "The goal is to identify the effect of D on the outcome variable $Y$. However,  there are two challenges in this setting. The first one is the relationship of the assignment variable $X$ with the variables $W$ and $U$. As one can see, the status of the treatment indicator D is determined by the variable $X$. In the setting of Baskaran and Hessami (2018) $X$ is the margin of victory of a female candidate for the office of mayor in a mixed-gender election. If a female mayor candidate is victorious, the assignment variable would take on a positive value and induce the treatment indicator $D$ to be one. In case of a defeat of the female mayor candidate, $X$ is negative, no treatment takes place and the respective municipality is in the control group. Consequently, the factors determining the margin of victory also affect the assignment of treatment. These factors are summarized as the variables $W$ and $U$, which represent all observable and unobservable factors that influence the margin of victory of a female mayor. Since these variables influence treatment assignment, the split of  the  test population into control and treatmen group is non-random. Usually, this issue is solved by conditioning on these variables. But this is only partially possible here since it is not possible to condition on unobservable characteristics.   <br>\n",
    "The second problem is the confounding nature of the variable $X$, because the margin of victory might not only affect the performance of female candidates through the assignment of treatment. $X$ itself may exert an effect on the performance of female council candidates. An example would be a landslide victory of a male mayor candidate against an unqualified female mayor candidate. In this case, the municipality would select into the control group, but due to the weak performance of the female candidate, voters might relate this performance to the gender of council candidates in a subsequent council election, resulting in a weak electoral result of female candidates. Again,  one would try to solve this problem by conditioning on the $X$, and observe the treatment effect for different subgroups of $X$. Unfortunately, this is not possible in our setting due to the role of $X$ as assignment variable of treatment. This can be illstrated by assuming (for simplicity) that $X$ can only take on two realizations that satisfy: $x_1<0<x_2$. In this case, we cannot observe the impact of treatment in the population where $X=x_1$, since being in $x_1$ and simultaneously being assigned to treatment is mutually exclusive. <br> Facing these problems one cannot identify a causal relationship based on the back-door-criterion as it is not possible to close all backdoor paths.\n",
    "  \n",
    "To overcome these issues and identify a causal effect of $D$ on $Y$, Baskaran & Hessami (2018) apply a regression discontinuity design. The underlying idea of this approach is that under a certain condition,  treatment assignment to the test population is locally randomized around a predefined cutoff value. This requires that treatment takes place just above the cutoff, whereas under it no treatment takes place. Under this quasi-randomized experimental setting causal interpretation of a treatment effect is possible, since agents who are just below the threshold of receiving treatment represent reasonable counterfactuals of those that receive treatment. <br> In Baskaran & Hessami (2008) the cutoff value for treatment is reached ones a female mayor candidate receives more than $50\\%$ of votes, meaning that $X$ is positive. Following the logic of a regression discontinuity design, we can now treat the assignment of treatment  as locally randomized close to this cutoff.<br>\n",
    "However, for an regression discontinuity design to be valid in identifying a causal effect, the test population (municipality) has to be unable to precisely manipulate the assignment variable around the cutoff, meaning they may only exert imprecise control over the assignment variable close to the cutoff. This can intuitively be explained by thinking of a mayor election between two candidates, where all votes but one are counted and amount to a draw. The last voter then decides to make his voting decision by a coin flip. While voters were generally able to manipulate the assignment variable to be close to the cutoff, the voters were only able to manipulate it imperfectly as the final treatment assignment was determined entirely by chance. <br>\n",
    "A more formal definition is given by:\n",
    "\n",
    "<h5 align=\"center\" >\"We say individuals have imprecise control over $X$ when conditional on $W$ $=$ $w$ and $U$ $=$ $u$, the density of $V$ (and hence $X$) is continuous.\" (Lee and Lemieux,2010,p.295)</h5>  \n",
    "\n",
    "Mathematically, this takes on the following form\n",
    "\\begin{align*}\n",
    "Pr[W = w, U = u \\mid X = x]. \n",
    "\\end{align*}\n",
    "Applying Bayes' theorem and setting $x=c$, with c being the cutoff of treatment assignment, it follows that\n",
    "\n",
    "\\begin{align*}\n",
    "& \\Pr[W = w, U = u \\mid X = c] \n",
    "\\quad = \\quad f(c \\mid W = w, U = u) \\quad\\frac{\\Pr[W = w, U = u]}{f(c)}.\n",
    "\\end{align*}\n",
    "\n",
    "The expression implies that $W$ and $U$ follow the same conditional distribution at the cutoff, independant of treatment assignment. Accordingly treatment assignment is \"as good as random\" (Lee and Lemieux,2010,p.295), as all differences in realizations of $W$ and $U$ are determined by chance. The implication is that the treatment effect takes on  the following form\n",
    "\\begin{align*}\n",
    "  &\\lim_{ε↓0}E[Y|X = c + ε]-\\lim_{ε↑0}E[Y |X = c + ε]\\quad=\\quad τ.\n",
    "\\end{align*}\n",
    "\n",
    "\n",
    "For the setting in Baskaran and Hessami (2018), if the criterion of imprecise control near the cutoff is fulfilled causal inference is possible as presented by causal graph 2.\n"
   ]
  },
  {
   "cell_type": "markdown",
   "metadata": {},
   "source": [
    "Causal Graph 2"
   ]
  },
  {
   "cell_type": "markdown",
   "metadata": {},
   "source": [
    "![ERROR:Here should be causal graph 1](files/causalgraph2.PNG)"
   ]
  },
  {
   "cell_type": "markdown",
   "metadata": {},
   "source": [
    "This graph follows the same logic as causal graph 1, with the difference that we restrict our view to values of $X$ close around the cutoff of treatment assignment. First, notice that the assignment variable is no longer a confounding factor since all effects of $X$ on  $Y$ are only due to the change in treatment assignment. Similarly, W and U now follow the same distribution on either side of the cutoff. Consequently, their realization is randomly determined for a given municipality and not correlated with $X$. <br>\n",
    "In the setting of Baskaran and Hessami (2018) this means that if we restrict our look to mix gender elections, where the female or male candidate for mayors office, won the election by a margin \"small enough\", all observable and unobservables that could influence treatment assignment are now (locally) random. Accordingly,  this implies the arbitrary designation of treatment. Consequently, a causal interpretation of the victory of a female candidate is possible for close gender-mixed elections. "
   ]
  },
  {
   "cell_type": "markdown",
   "metadata": {},
   "source": [
    "---\n",
    "# 4. Empirical Analysis <a name=\"Empirical_Analysis\"></a>\n",
    "---"
   ]
  },
  {
   "cell_type": "markdown",
   "metadata": {},
   "source": [
    "In order to determine the treatment effect, the authors consider $two$ $different$ $dependant$ $variables$, the $rank$ $improvement$ of a female candidate within a party voting list and secondly the $gender$ $of$ $an$ $elected$ $council$ $candidate$. The authors formalize the  former  as follows:\n",
    "\n",
    "<br>\n",
    "\\begin{equation} \n",
    "rank\\: improvement = \\left(\\frac{initial\\:rank - final\\:rank}{council\\:size}\\right) \\times   100\n",
    "\\end{equation}\n",
    "\n",
    "<br>\n",
    "Following this design improvement in ranks, meaning a candidate receives more preferential votes than the candidate in front of him on the initial list, has a positive sign, and degradation is labeled with a minus sign. The change in ranks is then normalized by council size and multiplied by 100 to ensure comparability between different municipalities since the actual number of council seats differ considerably. <br>\n",
    "The $second$ $dependant$ $variable$ is a dummy variable that takes on the value one if an elected council candidate is female and zero otherwise. Consequently, the analysis of these dependant variables differs in their sample structure, since the analysis on rank improvement only includes female candidates which may or may not have been elected. However, the second analysis includes all candidates that won a council seat, independent of gender.<br>\n",
    "The effect of a female mayor for both dependent variables is estimated by linear and quadratic local regression using identical functional designs for both outcome variables. Formally, the regression model is "
   ]
  },
  {
   "cell_type": "markdown",
   "metadata": {},
   "source": [
    "\n",
    "\n",
    "\\begin{equation} \n",
    "dependant\\:variable_{k,i,t}\\:=\\:\\alpha\\:+\\:\\beta female\\: mayor_{i,t} \\:+\\:f(vote\\:margin)_{i,t}\\:+\\:female\\:mayor_{i,t}\\:\\times\\:g(vote\\:margin)_{i,t}\\: + \\:\\varepsilon_{k,i,t}.\n",
    "\\end{equation}\n"
   ]
  },
  {
   "cell_type": "markdown",
   "metadata": {},
   "source": [
    "The indices $k$,$i$, and $t$ refer to the individual council candidate, the municipality, and the year of the council election respectively. Variable $female$ $mayor$ is a dummy that takes on the value one if a female mayor was elected in the last mayoral election. The functions  $f(\\cdot)$ and $g(\\cdot)$ are linear (or quadratic) functions of $vote$ $margin$, the percentage margin of victory of the female mayor candidate in the preceding mayor election, our assignment variable in the regression discontinuity design. Since we want to explore the impact of a female mayor, the margin of victory is positive above the cutoff of 0% and negative otherwise, implying the defeat of the female candidate. <br>\n",
    "In addition to the functional form of the regression, the chosen bandwidth, the amount of data included in the estimation relative to the cutoff point, is critical. In order to achieve an unbiased treatment we rely on the criteria of local randomization as argued above. This would encourage to restrict our analysis as close as possible to the cutoff. This however implies that less  data is available to estimate the treatment, effect resulting in higher variance in the estimation of the treatment effect. To overcome this problem, Baskaran & Hessami (2018) estimate equation (2) for five different bandwidths for each of the outcome variables. The bandwidths chosen are the ones proposed by Calonico, Cattaneo, and Titiunik (2014), half of this bandwidth, and double of it. Estimates according to the bandwidth proposed by Imbens & Kalyanaraman (2012) are also included. Additionally, one model estimates the effect by including quadratic terms of $vote$ $margin$ and its interaction with $female$ $mayor$. The underlying process to determine the bandwidth for this specification is again chosen according to Calonico, Cattaneo, and Titiunik (2014). For all calculations, the authors use heteroscedasticity-robust and municipality-level clustered standard errors for hypothesis testing."
   ]
  },
  {
   "cell_type": "markdown",
   "metadata": {},
   "source": [
    "---\n",
    "# 5. Replication Study <a name=\"Replication_Study\"></a>\n",
    "---"
   ]
  },
  {
   "cell_type": "markdown",
   "metadata": {},
   "source": [
    "---\n",
    "## 5.1 Data and Descriptive Summary <a name=\"Data_and_Descriptive_Summary\"></a>\n",
    "---"
   ]
  },
  {
   "cell_type": "markdown",
   "metadata": {},
   "source": [
    "To assess the data used by Baskaran and Hessami (2018) a distinction between the data for mayoral elections and the data for council elections has to be made.\n",
    "The data set for mayoral elections stems directly from the Statistical Office of Hesse and contains data on all mayoral elections taking place between 1993  -2015, including dates, number of votes, party affiliation,  gender and names of the  respective candidate.<br>\n",
    "The data for council elections is less consistent. For council elections in the year 2016 administrative data is provided by the Statistical Office of Hesse (consisting of the initial list rank, their final position as well as gender and name). This type of data is not available for previous elections, which required the authors to hand collect the data through various means of communication with municipality administration officials and official municipality websites.<br>"
   ]
  },
  {
   "cell_type": "markdown",
   "metadata": {},
   "source": [
    "## Figure 1. Sample Coverage"
   ]
  },
  {
   "cell_type": "code",
   "execution_count": 4,
   "metadata": {},
   "outputs": [
    {
     "data": {
      "image/png": "[encoded data removed]",
      "text/plain": [
       "<Figure size 1080x432 with 2 Axes>"
      ]
     },
     "metadata": {
      "needs_background": "light"
     },
     "output_type": "display_data"
    }
   ],
   "source": [
    "data=pd.read_stata(\"Data/main_dataset.dta\")\n",
    "fig1_a=data_fig1_a(data)\n",
    "fig1_b=data_fig1_b(data)\n",
    "plt1_1=(fig1_a)\n",
    "plt2_1=(fig1_b)\n",
    "figure1_plot(plt1_1,plt2_1)"
   ]
  },
  {
   "cell_type": "markdown",
   "metadata": {},
   "source": [
    "Figure 1 depicts the overall sample coverage of local council elections analyzed by the authors. The bar chart on the left-hand side shows the total number of single municipalities in the sample, clustered by years of council elections. The right-hand side shows the same statistic but on an individual candidate level. As it is visible the data coverage declines considerably when moving further into the past. This is attributed to the fact that the authors had to collect the data for those elections manually since no central source was available."
   ]
  },
  {
   "cell_type": "markdown",
   "metadata": {},
   "source": [
    "## Table 1 - Summary Statistics For Candidate Characteristics"
   ]
  },
  {
   "cell_type": "markdown",
   "metadata": {},
   "source": [
    "### All council candidates "
   ]
  },
  {
   "cell_type": "code",
   "execution_count": 5,
   "metadata": {},
   "outputs": [
    {
     "data": {
      "text/html": [
       "<div>\n",
       "<style scoped>\n",
       "    .dataframe tbody tr th:only-of-type {\n",
       "        vertical-align: middle;\n",
       "    }\n",
       "\n",
       "    .dataframe tbody tr th {\n",
       "        vertical-align: top;\n",
       "    }\n",
       "\n",
       "    .dataframe thead th {\n",
       "        text-align: right;\n",
       "    }\n",
       "</style>\n",
       "<table border=\"1\" class=\"dataframe\">\n",
       "  <thead>\n",
       "    <tr style=\"text-align: right;\">\n",
       "      <th></th>\n",
       "      <th>count</th>\n",
       "      <th>mean</th>\n",
       "      <th>std</th>\n",
       "      <th>min</th>\n",
       "      <th>max</th>\n",
       "    </tr>\n",
       "  </thead>\n",
       "  <tbody>\n",
       "    <tr>\n",
       "      <th>Rank improvement (normalized)</th>\n",
       "      <td>109017.0</td>\n",
       "      <td>0.066676</td>\n",
       "      <td>13.253290</td>\n",
       "      <td>-89.189186</td>\n",
       "      <td>97.297295</td>\n",
       "    </tr>\n",
       "    <tr>\n",
       "      <th>Initial list rank (normalized)</th>\n",
       "      <td>109017.0</td>\n",
       "      <td>40.101704</td>\n",
       "      <td>26.774668</td>\n",
       "      <td>0.000000</td>\n",
       "      <td>100.000000</td>\n",
       "    </tr>\n",
       "    <tr>\n",
       "      <th>Age</th>\n",
       "      <td>54676.0</td>\n",
       "      <td>51.580711</td>\n",
       "      <td>13.780560</td>\n",
       "      <td>18.000000</td>\n",
       "      <td>102.000000</td>\n",
       "    </tr>\n",
       "    <tr>\n",
       "      <th>High school</th>\n",
       "      <td>48729.0</td>\n",
       "      <td>0.650578</td>\n",
       "      <td>0.476792</td>\n",
       "      <td>0.000000</td>\n",
       "      <td>1.000000</td>\n",
       "    </tr>\n",
       "    <tr>\n",
       "      <th>University</th>\n",
       "      <td>48729.0</td>\n",
       "      <td>0.281598</td>\n",
       "      <td>0.449783</td>\n",
       "      <td>0.000000</td>\n",
       "      <td>1.000000</td>\n",
       "    </tr>\n",
       "    <tr>\n",
       "      <th>Phd</th>\n",
       "      <td>48729.0</td>\n",
       "      <td>0.067824</td>\n",
       "      <td>0.251446</td>\n",
       "      <td>0.000000</td>\n",
       "      <td>1.000000</td>\n",
       "    </tr>\n",
       "    <tr>\n",
       "      <th>Architect</th>\n",
       "      <td>49399.0</td>\n",
       "      <td>0.008603</td>\n",
       "      <td>0.092356</td>\n",
       "      <td>0.000000</td>\n",
       "      <td>1.000000</td>\n",
       "    </tr>\n",
       "    <tr>\n",
       "      <th>Businesswoman/-man</th>\n",
       "      <td>49399.0</td>\n",
       "      <td>0.075892</td>\n",
       "      <td>0.264828</td>\n",
       "      <td>0.000000</td>\n",
       "      <td>1.000000</td>\n",
       "    </tr>\n",
       "    <tr>\n",
       "      <th>Engineer</th>\n",
       "      <td>49399.0</td>\n",
       "      <td>0.055305</td>\n",
       "      <td>0.228576</td>\n",
       "      <td>0.000000</td>\n",
       "      <td>1.000000</td>\n",
       "    </tr>\n",
       "    <tr>\n",
       "      <th>Lawyer</th>\n",
       "      <td>49399.0</td>\n",
       "      <td>0.031377</td>\n",
       "      <td>0.174337</td>\n",
       "      <td>0.000000</td>\n",
       "      <td>1.000000</td>\n",
       "    </tr>\n",
       "    <tr>\n",
       "      <th>Civil administration</th>\n",
       "      <td>49399.0</td>\n",
       "      <td>0.077309</td>\n",
       "      <td>0.267084</td>\n",
       "      <td>0.000000</td>\n",
       "      <td>1.000000</td>\n",
       "    </tr>\n",
       "    <tr>\n",
       "      <th>Teacher</th>\n",
       "      <td>49399.0</td>\n",
       "      <td>0.051661</td>\n",
       "      <td>0.221344</td>\n",
       "      <td>0.000000</td>\n",
       "      <td>1.000000</td>\n",
       "    </tr>\n",
       "    <tr>\n",
       "      <th>Employed</th>\n",
       "      <td>55416.0</td>\n",
       "      <td>0.714721</td>\n",
       "      <td>0.451551</td>\n",
       "      <td>0.000000</td>\n",
       "      <td>1.000000</td>\n",
       "    </tr>\n",
       "    <tr>\n",
       "      <th>Self-employed</th>\n",
       "      <td>55416.0</td>\n",
       "      <td>0.058467</td>\n",
       "      <td>0.234626</td>\n",
       "      <td>0.000000</td>\n",
       "      <td>1.000000</td>\n",
       "    </tr>\n",
       "    <tr>\n",
       "      <th>Student</th>\n",
       "      <td>55416.0</td>\n",
       "      <td>0.044392</td>\n",
       "      <td>0.205965</td>\n",
       "      <td>0.000000</td>\n",
       "      <td>1.000000</td>\n",
       "    </tr>\n",
       "    <tr>\n",
       "      <th>Retired</th>\n",
       "      <td>55416.0</td>\n",
       "      <td>0.143930</td>\n",
       "      <td>0.351021</td>\n",
       "      <td>0.000000</td>\n",
       "      <td>1.000000</td>\n",
       "    </tr>\n",
       "    <tr>\n",
       "      <th>Housewife/-husband</th>\n",
       "      <td>55416.0</td>\n",
       "      <td>0.022900</td>\n",
       "      <td>0.149585</td>\n",
       "      <td>0.000000</td>\n",
       "      <td>1.000000</td>\n",
       "    </tr>\n",
       "  </tbody>\n",
       "</table>\n",
       "</div>"
      ],
      "text/plain": [
       "                                   count       mean        std        min  \\\n",
       "Rank improvement (normalized)   109017.0   0.066676  13.253290 -89.189186   \n",
       "Initial list rank (normalized)  109017.0  40.101704  26.774668   0.000000   \n",
       "Age                              54676.0  51.580711  13.780560  18.000000   \n",
       "High school                      48729.0   0.650578   0.476792   0.000000   \n",
       "University                       48729.0   0.281598   0.449783   0.000000   \n",
       "Phd                              48729.0   0.067824   0.251446   0.000000   \n",
       "Architect                        49399.0   0.008603   0.092356   0.000000   \n",
       "Businesswoman/-man               49399.0   0.075892   0.264828   0.000000   \n",
       "Engineer                         49399.0   0.055305   0.228576   0.000000   \n",
       "Lawyer                           49399.0   0.031377   0.174337   0.000000   \n",
       "Civil administration             49399.0   0.077309   0.267084   0.000000   \n",
       "Teacher                          49399.0   0.051661   0.221344   0.000000   \n",
       "Employed                         55416.0   0.714721   0.451551   0.000000   \n",
       "Self-employed                    55416.0   0.058467   0.234626   0.000000   \n",
       "Student                          55416.0   0.044392   0.205965   0.000000   \n",
       "Retired                          55416.0   0.143930   0.351021   0.000000   \n",
       "Housewife/-husband               55416.0   0.022900   0.149585   0.000000   \n",
       "\n",
       "                                       max  \n",
       "Rank improvement (normalized)    97.297295  \n",
       "Initial list rank (normalized)  100.000000  \n",
       "Age                             102.000000  \n",
       "High school                       1.000000  \n",
       "University                        1.000000  \n",
       "Phd                               1.000000  \n",
       "Architect                         1.000000  \n",
       "Businesswoman/-man                1.000000  \n",
       "Engineer                          1.000000  \n",
       "Lawyer                            1.000000  \n",
       "Civil administration              1.000000  \n",
       "Teacher                           1.000000  \n",
       "Employed                          1.000000  \n",
       "Self-employed                     1.000000  \n",
       "Student                           1.000000  \n",
       "Retired                           1.000000  \n",
       "Housewife/-husband                1.000000  "
      ]
     },
     "execution_count": 5,
     "metadata": {},
     "output_type": "execute_result"
    }
   ],
   "source": [
    "Table1_a=table1(data, dictionary_table1(), female=False)\n",
    "Table1_a"
   ]
  },
  {
   "cell_type": "markdown",
   "metadata": {},
   "source": [
    "### Female council candidates"
   ]
  },
  {
   "cell_type": "code",
   "execution_count": 6,
   "metadata": {},
   "outputs": [
    {
     "data": {
      "text/html": [
       "<div>\n",
       "<style scoped>\n",
       "    .dataframe tbody tr th:only-of-type {\n",
       "        vertical-align: middle;\n",
       "    }\n",
       "\n",
       "    .dataframe tbody tr th {\n",
       "        vertical-align: top;\n",
       "    }\n",
       "\n",
       "    .dataframe thead th {\n",
       "        text-align: right;\n",
       "    }\n",
       "</style>\n",
       "<table border=\"1\" class=\"dataframe\">\n",
       "  <thead>\n",
       "    <tr style=\"text-align: right;\">\n",
       "      <th></th>\n",
       "      <th>count</th>\n",
       "      <th>mean</th>\n",
       "      <th>std</th>\n",
       "      <th>min</th>\n",
       "      <th>max</th>\n",
       "    </tr>\n",
       "  </thead>\n",
       "  <tbody>\n",
       "    <tr>\n",
       "      <th>Rank improvement (normalized)</th>\n",
       "      <td>28480.0</td>\n",
       "      <td>-0.458683</td>\n",
       "      <td>11.933606</td>\n",
       "      <td>-89.189186</td>\n",
       "      <td>97.297295</td>\n",
       "    </tr>\n",
       "    <tr>\n",
       "      <th>Initial list rank (normalized)</th>\n",
       "      <td>28480.0</td>\n",
       "      <td>38.816017</td>\n",
       "      <td>26.086885</td>\n",
       "      <td>0.000000</td>\n",
       "      <td>100.000000</td>\n",
       "    </tr>\n",
       "    <tr>\n",
       "      <th>Age</th>\n",
       "      <td>13923.0</td>\n",
       "      <td>51.035049</td>\n",
       "      <td>13.602677</td>\n",
       "      <td>18.000000</td>\n",
       "      <td>96.000000</td>\n",
       "    </tr>\n",
       "    <tr>\n",
       "      <th>High school</th>\n",
       "      <td>11734.0</td>\n",
       "      <td>0.671723</td>\n",
       "      <td>0.469606</td>\n",
       "      <td>0.000000</td>\n",
       "      <td>1.000000</td>\n",
       "    </tr>\n",
       "    <tr>\n",
       "      <th>University</th>\n",
       "      <td>11734.0</td>\n",
       "      <td>0.277399</td>\n",
       "      <td>0.447734</td>\n",
       "      <td>0.000000</td>\n",
       "      <td>1.000000</td>\n",
       "    </tr>\n",
       "    <tr>\n",
       "      <th>Phd</th>\n",
       "      <td>11734.0</td>\n",
       "      <td>0.050878</td>\n",
       "      <td>0.219757</td>\n",
       "      <td>0.000000</td>\n",
       "      <td>1.000000</td>\n",
       "    </tr>\n",
       "    <tr>\n",
       "      <th>Architect</th>\n",
       "      <td>11832.0</td>\n",
       "      <td>0.006930</td>\n",
       "      <td>0.082963</td>\n",
       "      <td>0.000000</td>\n",
       "      <td>1.000000</td>\n",
       "    </tr>\n",
       "    <tr>\n",
       "      <th>Businesswoman/-man</th>\n",
       "      <td>11832.0</td>\n",
       "      <td>0.064148</td>\n",
       "      <td>0.245027</td>\n",
       "      <td>0.000000</td>\n",
       "      <td>1.000000</td>\n",
       "    </tr>\n",
       "    <tr>\n",
       "      <th>Engineer</th>\n",
       "      <td>11832.0</td>\n",
       "      <td>0.013861</td>\n",
       "      <td>0.116918</td>\n",
       "      <td>0.000000</td>\n",
       "      <td>1.000000</td>\n",
       "    </tr>\n",
       "    <tr>\n",
       "      <th>Lawyer</th>\n",
       "      <td>11832.0</td>\n",
       "      <td>0.035159</td>\n",
       "      <td>0.184189</td>\n",
       "      <td>0.000000</td>\n",
       "      <td>1.000000</td>\n",
       "    </tr>\n",
       "    <tr>\n",
       "      <th>Civil administration</th>\n",
       "      <td>11832.0</td>\n",
       "      <td>0.058147</td>\n",
       "      <td>0.234032</td>\n",
       "      <td>0.000000</td>\n",
       "      <td>1.000000</td>\n",
       "    </tr>\n",
       "    <tr>\n",
       "      <th>Teacher</th>\n",
       "      <td>11832.0</td>\n",
       "      <td>0.078178</td>\n",
       "      <td>0.268463</td>\n",
       "      <td>0.000000</td>\n",
       "      <td>1.000000</td>\n",
       "    </tr>\n",
       "    <tr>\n",
       "      <th>Employed</th>\n",
       "      <td>14043.0</td>\n",
       "      <td>0.697501</td>\n",
       "      <td>0.459357</td>\n",
       "      <td>0.000000</td>\n",
       "      <td>1.000000</td>\n",
       "    </tr>\n",
       "    <tr>\n",
       "      <th>Self-employed</th>\n",
       "      <td>14043.0</td>\n",
       "      <td>0.036175</td>\n",
       "      <td>0.186731</td>\n",
       "      <td>0.000000</td>\n",
       "      <td>1.000000</td>\n",
       "    </tr>\n",
       "    <tr>\n",
       "      <th>Student</th>\n",
       "      <td>14043.0</td>\n",
       "      <td>0.051627</td>\n",
       "      <td>0.221281</td>\n",
       "      <td>0.000000</td>\n",
       "      <td>1.000000</td>\n",
       "    </tr>\n",
       "    <tr>\n",
       "      <th>Retired</th>\n",
       "      <td>14043.0</td>\n",
       "      <td>0.112868</td>\n",
       "      <td>0.316442</td>\n",
       "      <td>0.000000</td>\n",
       "      <td>1.000000</td>\n",
       "    </tr>\n",
       "    <tr>\n",
       "      <th>Housewife/-husband</th>\n",
       "      <td>14043.0</td>\n",
       "      <td>0.088015</td>\n",
       "      <td>0.283327</td>\n",
       "      <td>0.000000</td>\n",
       "      <td>1.000000</td>\n",
       "    </tr>\n",
       "  </tbody>\n",
       "</table>\n",
       "</div>"
      ],
      "text/plain": [
       "                                  count       mean        std        min  \\\n",
       "Rank improvement (normalized)   28480.0  -0.458683  11.933606 -89.189186   \n",
       "Initial list rank (normalized)  28480.0  38.816017  26.086885   0.000000   \n",
       "Age                             13923.0  51.035049  13.602677  18.000000   \n",
       "High school                     11734.0   0.671723   0.469606   0.000000   \n",
       "University                      11734.0   0.277399   0.447734   0.000000   \n",
       "Phd                             11734.0   0.050878   0.219757   0.000000   \n",
       "Architect                       11832.0   0.006930   0.082963   0.000000   \n",
       "Businesswoman/-man              11832.0   0.064148   0.245027   0.000000   \n",
       "Engineer                        11832.0   0.013861   0.116918   0.000000   \n",
       "Lawyer                          11832.0   0.035159   0.184189   0.000000   \n",
       "Civil administration            11832.0   0.058147   0.234032   0.000000   \n",
       "Teacher                         11832.0   0.078178   0.268463   0.000000   \n",
       "Employed                        14043.0   0.697501   0.459357   0.000000   \n",
       "Self-employed                   14043.0   0.036175   0.186731   0.000000   \n",
       "Student                         14043.0   0.051627   0.221281   0.000000   \n",
       "Retired                         14043.0   0.112868   0.316442   0.000000   \n",
       "Housewife/-husband              14043.0   0.088015   0.283327   0.000000   \n",
       "\n",
       "                                       max  \n",
       "Rank improvement (normalized)    97.297295  \n",
       "Initial list rank (normalized)  100.000000  \n",
       "Age                              96.000000  \n",
       "High school                       1.000000  \n",
       "University                        1.000000  \n",
       "Phd                               1.000000  \n",
       "Architect                         1.000000  \n",
       "Businesswoman/-man                1.000000  \n",
       "Engineer                          1.000000  \n",
       "Lawyer                            1.000000  \n",
       "Civil administration              1.000000  \n",
       "Teacher                           1.000000  \n",
       "Employed                          1.000000  \n",
       "Self-employed                     1.000000  \n",
       "Student                           1.000000  \n",
       "Retired                           1.000000  \n",
       "Housewife/-husband                1.000000  "
      ]
     },
     "execution_count": 6,
     "metadata": {},
     "output_type": "execute_result"
    }
   ],
   "source": [
    "Table1_b=table1(data, dictionary_table1(), female=True)\n",
    "Table1_b"
   ]
  },
  {
   "cell_type": "markdown",
   "metadata": {},
   "source": [
    "Table 1 presents summary statistics on (normalized) rank improvement, initial list rank, age, and occupational characteristics of candidates. The first table contains data on all council candidates while the second one is restricted to female candidates. The fact that we observe a (small) positive average rank improvement for all candidates is attributed to the normalization as outlined in section 4. Additionally, it is noteworthy that on average women are demoted by voters. To determine the signficance of this finding "
   ]
  },
  {
   "cell_type": "markdown",
   "metadata": {},
   "source": [
    "## Table A.2: Differences In Initial List Placement And Rank Improvement, Female vs. Male Candidates "
   ]
  },
  {
   "cell_type": "code",
   "execution_count": 7,
   "metadata": {},
   "outputs": [
    {
     "data": {
      "text/html": [
       "<div>\n",
       "<style scoped>\n",
       "    .dataframe tbody tr th:only-of-type {\n",
       "        vertical-align: middle;\n",
       "    }\n",
       "\n",
       "    .dataframe tbody tr th {\n",
       "        vertical-align: top;\n",
       "    }\n",
       "\n",
       "    .dataframe thead th {\n",
       "        text-align: right;\n",
       "    }\n",
       "</style>\n",
       "<table border=\"1\" class=\"dataframe\">\n",
       "  <thead>\n",
       "    <tr style=\"text-align: right;\">\n",
       "      <th></th>\n",
       "      <th>Treatment</th>\n",
       "      <th>Control</th>\n",
       "      <th>Diff</th>\n",
       "      <th>Std. Error</th>\n",
       "      <th>Observations</th>\n",
       "    </tr>\n",
       "    <tr>\n",
       "      <th>Rank</th>\n",
       "      <th></th>\n",
       "      <th></th>\n",
       "      <th></th>\n",
       "      <th></th>\n",
       "      <th></th>\n",
       "    </tr>\n",
       "  </thead>\n",
       "  <tbody>\n",
       "    <tr>\n",
       "      <th>Rank improvement (normalized)</th>\n",
       "      <td>-0.459000</td>\n",
       "      <td>0.252</td>\n",
       "      <td>-0.711***</td>\n",
       "      <td>0.091</td>\n",
       "      <td>109017.0</td>\n",
       "    </tr>\n",
       "    <tr>\n",
       "      <th>Initial list rank (normalized)</th>\n",
       "      <td>38.816002</td>\n",
       "      <td>40.556</td>\n",
       "      <td>-1.74***</td>\n",
       "      <td>0.185</td>\n",
       "      <td>109017.0</td>\n",
       "    </tr>\n",
       "  </tbody>\n",
       "</table>\n",
       "</div>"
      ],
      "text/plain": [
       "                                Treatment  Control        Diff  Std. Error  \\\n",
       "Rank                                                                         \n",
       "Rank improvement (normalized)   -0.459000     0.252  -0.711***       0.091   \n",
       "Initial list rank (normalized)  38.816002    40.556   -1.74***       0.185   \n",
       "\n",
       "                                Observations  \n",
       "Rank                                          \n",
       "Rank improvement (normalized)       109017.0  \n",
       "Initial list rank (normalized)      109017.0  "
      ]
     },
     "execution_count": 7,
     "metadata": {},
     "output_type": "execute_result"
    }
   ],
   "source": [
    "tt_rank=t_test_prepare_rank(data)\n",
    "ttest(tt_rank,\"Rank\")"
   ]
  },
  {
   "cell_type": "markdown",
   "metadata": {},
   "source": [
    "The table above presents the results of t-tests performed to test whether there are significant differences in the rank improvement and initial rank between female and male candidates. Following the results, female candidates perform worse in rank improvement and are initially placed better than male candidates. However, these results are far from conclusive, since the underlying mechanism (list placement of candidates by parties) or potential omitted variables are neglected."
   ]
  },
  {
   "cell_type": "markdown",
   "metadata": {},
   "source": [
    "---\n",
    "## 5.2 Vailidity of the RD Design <a name=\"Vailidity_of_the_RD_Design\"></a>\n",
    "---"
   ]
  },
  {
   "cell_type": "markdown",
   "metadata": {},
   "source": [
    "As described in section 4,  the validity of a regression discontinuity design depends on the assumption that agenst habe only imprecise control over the assignment variable at the cutoff. Baskaran and Hessami (2018) perform therefore several different test in order to show the validity of their approach."
   ]
  },
  {
   "cell_type": "markdown",
   "metadata": {},
   "source": [
    "### 5.2.1 Pretreatment Municipality Characteristics <a name=\"Pretreatment_Municipality_Characteristics\"></a>\n",
    "---"
   ]
  },
  {
   "cell_type": "markdown",
   "metadata": {},
   "source": [
    "One possible pitfall for the validity of the outlined methodology could be if municipalities that elect a female mayors differ structurally from those that do not. To test if this is the case the authors perform t-tests on several observable characteristics of municipalities. For these tests, the sample as outlined above is reduced to data of council elections, where the previous mayor election was between candidates of a different gender. Since this subset of the data will be used frequently from now on, this sample will be referred to as **rdd-sample**."
   ]
  },
  {
   "cell_type": "markdown",
   "metadata": {},
   "source": [
    "## Table A.4: Validity Test I: Differences In Municipality Characteristics With Female And Male Mayors"
   ]
  },
  {
   "cell_type": "code",
   "execution_count": 8,
   "metadata": {},
   "outputs": [
    {
     "data": {
      "text/html": [
       "<div>\n",
       "<style scoped>\n",
       "    .dataframe tbody tr th:only-of-type {\n",
       "        vertical-align: middle;\n",
       "    }\n",
       "\n",
       "    .dataframe tbody tr th {\n",
       "        vertical-align: top;\n",
       "    }\n",
       "\n",
       "    .dataframe thead th {\n",
       "        text-align: right;\n",
       "    }\n",
       "</style>\n",
       "<table border=\"1\" class=\"dataframe\">\n",
       "  <thead>\n",
       "    <tr style=\"text-align: right;\">\n",
       "      <th></th>\n",
       "      <th>Treatment</th>\n",
       "      <th>Control</th>\n",
       "      <th>Diff</th>\n",
       "      <th>Std. Error</th>\n",
       "      <th>Observations</th>\n",
       "    </tr>\n",
       "    <tr>\n",
       "      <th>Municipality Characteristics</th>\n",
       "      <th></th>\n",
       "      <th></th>\n",
       "      <th></th>\n",
       "      <th></th>\n",
       "      <th></th>\n",
       "    </tr>\n",
       "  </thead>\n",
       "  <tbody>\n",
       "    <tr>\n",
       "      <th>Log(population)</th>\n",
       "      <td>9.384</td>\n",
       "      <td>9.211</td>\n",
       "      <td>0.173</td>\n",
       "      <td>0.121</td>\n",
       "      <td>268.0</td>\n",
       "    </tr>\n",
       "    <tr>\n",
       "      <th>Log(land area)</th>\n",
       "      <td>3.632</td>\n",
       "      <td>3.611</td>\n",
       "      <td>0.021</td>\n",
       "      <td>0.100</td>\n",
       "      <td>268.0</td>\n",
       "    </tr>\n",
       "    <tr>\n",
       "      <th>Log(debt p.c.)</th>\n",
       "      <td>-0.364</td>\n",
       "      <td>-0.513</td>\n",
       "      <td>0.149</td>\n",
       "      <td>0.118</td>\n",
       "      <td>268.0</td>\n",
       "    </tr>\n",
       "    <tr>\n",
       "      <th>Log(tax revenues p.c.)</th>\n",
       "      <td>-0.392</td>\n",
       "      <td>-0.430</td>\n",
       "      <td>0.038</td>\n",
       "      <td>0.053</td>\n",
       "      <td>268.0</td>\n",
       "    </tr>\n",
       "    <tr>\n",
       "      <th>Log(local gov. employment p.c.)</th>\n",
       "      <td>-5.129</td>\n",
       "      <td>-5.158</td>\n",
       "      <td>0.029</td>\n",
       "      <td>0.051</td>\n",
       "      <td>268.0</td>\n",
       "    </tr>\n",
       "    <tr>\n",
       "      <th>Log(female share, local gov. employment)</th>\n",
       "      <td>-1.076</td>\n",
       "      <td>-1.156</td>\n",
       "      <td>0.08*</td>\n",
       "      <td>0.046</td>\n",
       "      <td>265.0</td>\n",
       "    </tr>\n",
       "    <tr>\n",
       "      <th>Log(total employment p.c.)</th>\n",
       "      <td>-1.627</td>\n",
       "      <td>-1.540</td>\n",
       "      <td>-0.087</td>\n",
       "      <td>0.076</td>\n",
       "      <td>268.0</td>\n",
       "    </tr>\n",
       "    <tr>\n",
       "      <th>Log(female share, total employment)</th>\n",
       "      <td>-0.833</td>\n",
       "      <td>-0.850</td>\n",
       "      <td>0.017</td>\n",
       "      <td>0.029</td>\n",
       "      <td>268.0</td>\n",
       "    </tr>\n",
       "    <tr>\n",
       "      <th>Log(manufacturing / total employment)</th>\n",
       "      <td>-1.137</td>\n",
       "      <td>-1.060</td>\n",
       "      <td>-0.077</td>\n",
       "      <td>0.068</td>\n",
       "      <td>268.0</td>\n",
       "    </tr>\n",
       "    <tr>\n",
       "      <th>Log(female share, manufacturing</th>\n",
       "      <td>-1.553</td>\n",
       "      <td>-1.471</td>\n",
       "      <td>-0.082**</td>\n",
       "      <td>0.041</td>\n",
       "      <td>268.0</td>\n",
       "    </tr>\n",
       "  </tbody>\n",
       "</table>\n",
       "</div>"
      ],
      "text/plain": [
       "                                          Treatment  Control       Diff  \\\n",
       "Municipality Characteristics                                              \n",
       "Log(population)                               9.384     9.211     0.173   \n",
       "Log(land area)                                3.632     3.611     0.021   \n",
       "Log(debt p.c.)                               -0.364    -0.513     0.149   \n",
       "Log(tax revenues p.c.)                       -0.392    -0.430     0.038   \n",
       "Log(local gov. employment p.c.)              -5.129    -5.158     0.029   \n",
       "Log(female share, local gov. employment)     -1.076    -1.156     0.08*   \n",
       "Log(total employment p.c.)                   -1.627    -1.540    -0.087   \n",
       "Log(female share, total employment)          -0.833    -0.850     0.017   \n",
       "Log(manufacturing / total employment)        -1.137    -1.060    -0.077   \n",
       "Log(female share, manufacturing              -1.553    -1.471  -0.082**   \n",
       "\n",
       "                                          Std. Error  Observations  \n",
       "Municipality Characteristics                                        \n",
       "Log(population)                                0.121         268.0  \n",
       "Log(land area)                                 0.100         268.0  \n",
       "Log(debt p.c.)                                 0.118         268.0  \n",
       "Log(tax revenues p.c.)                         0.053         268.0  \n",
       "Log(local gov. employment p.c.)                0.051         268.0  \n",
       "Log(female share, local gov. employment)       0.046         265.0  \n",
       "Log(total employment p.c.)                     0.076         268.0  \n",
       "Log(female share, total employment)            0.029         268.0  \n",
       "Log(manufacturing / total employment)          0.068         268.0  \n",
       "Log(female share, manufacturing                0.041         268.0  "
      ]
     },
     "execution_count": 8,
     "metadata": {},
     "output_type": "execute_result"
    }
   ],
   "source": [
    "mayor_df=pd.read_stata(\"Data/mayor_election_data.dta\")\n",
    "municipality_df=pd.read_stata(\"Data/municipality_characteristics_data.dta\")\n",
    "df_ttest_ch=mayor_df.merge(right= municipality_df, how='inner', on=['gkz','jahr']).loc[(mayor_df[\"rdd_sample\"] == 1)]\n",
    "df_ttest_ch_10=subset_by_margin(df_ttest_ch,10)\n",
    "test_ch_all=t_test_prepare_cha(df_ttest_ch)\n",
    "ttest(test_ch_all,\"Municipality Characteristics\")"
   ]
  },
  {
   "cell_type": "markdown",
   "metadata": {},
   "source": [
    "The t-tests report statistically significant differences in the shares of female employment in the local administration and the manufacturing industry at a significance level of 10% and 5%. However, this difference vanishes when looking at differences of municipalities closer to the cutoff as the table below shows. "
   ]
  },
  {
   "cell_type": "code",
   "execution_count": 9,
   "metadata": {},
   "outputs": [
    {
     "data": {
      "text/html": [
       "<div>\n",
       "<style scoped>\n",
       "    .dataframe tbody tr th:only-of-type {\n",
       "        vertical-align: middle;\n",
       "    }\n",
       "\n",
       "    .dataframe tbody tr th {\n",
       "        vertical-align: top;\n",
       "    }\n",
       "\n",
       "    .dataframe thead th {\n",
       "        text-align: right;\n",
       "    }\n",
       "</style>\n",
       "<table border=\"1\" class=\"dataframe\">\n",
       "  <thead>\n",
       "    <tr style=\"text-align: right;\">\n",
       "      <th></th>\n",
       "      <th>Treatment</th>\n",
       "      <th>Control</th>\n",
       "      <th>Diff</th>\n",
       "      <th>Std. Error</th>\n",
       "      <th>Observations</th>\n",
       "    </tr>\n",
       "    <tr>\n",
       "      <th>Municipality Characteristics</th>\n",
       "      <th></th>\n",
       "      <th></th>\n",
       "      <th></th>\n",
       "      <th></th>\n",
       "      <th></th>\n",
       "    </tr>\n",
       "  </thead>\n",
       "  <tbody>\n",
       "    <tr>\n",
       "      <th>Log(population)</th>\n",
       "      <td>9.821</td>\n",
       "      <td>9.219</td>\n",
       "      <td>0.602*</td>\n",
       "      <td>0.300</td>\n",
       "      <td>55.0</td>\n",
       "    </tr>\n",
       "    <tr>\n",
       "      <th>Log(land area)</th>\n",
       "      <td>3.972</td>\n",
       "      <td>3.771</td>\n",
       "      <td>0.201</td>\n",
       "      <td>0.193</td>\n",
       "      <td>55.0</td>\n",
       "    </tr>\n",
       "    <tr>\n",
       "      <th>Log(debt p.c.)</th>\n",
       "      <td>-0.264</td>\n",
       "      <td>-0.253</td>\n",
       "      <td>-0.011</td>\n",
       "      <td>0.243</td>\n",
       "      <td>55.0</td>\n",
       "    </tr>\n",
       "    <tr>\n",
       "      <th>Log(tax revenues p.c.)</th>\n",
       "      <td>-0.306</td>\n",
       "      <td>-0.327</td>\n",
       "      <td>0.021</td>\n",
       "      <td>0.115</td>\n",
       "      <td>55.0</td>\n",
       "    </tr>\n",
       "    <tr>\n",
       "      <th>Log(local gov. employment p.c.)</th>\n",
       "      <td>-4.929</td>\n",
       "      <td>-5.080</td>\n",
       "      <td>0.151</td>\n",
       "      <td>0.145</td>\n",
       "      <td>55.0</td>\n",
       "    </tr>\n",
       "    <tr>\n",
       "      <th>Log(female share, local gov. employment)</th>\n",
       "      <td>-1.044</td>\n",
       "      <td>-1.146</td>\n",
       "      <td>0.102</td>\n",
       "      <td>0.098</td>\n",
       "      <td>55.0</td>\n",
       "    </tr>\n",
       "    <tr>\n",
       "      <th>Log(total employment p.c.)</th>\n",
       "      <td>-1.332</td>\n",
       "      <td>-1.490</td>\n",
       "      <td>0.158</td>\n",
       "      <td>0.152</td>\n",
       "      <td>55.0</td>\n",
       "    </tr>\n",
       "    <tr>\n",
       "      <th>Log(female share, total employment)</th>\n",
       "      <td>-0.887</td>\n",
       "      <td>-0.885</td>\n",
       "      <td>-0.002</td>\n",
       "      <td>0.058</td>\n",
       "      <td>55.0</td>\n",
       "    </tr>\n",
       "    <tr>\n",
       "      <th>Log(manufacturing / total employment)</th>\n",
       "      <td>-1.042</td>\n",
       "      <td>-0.981</td>\n",
       "      <td>-0.061</td>\n",
       "      <td>0.126</td>\n",
       "      <td>55.0</td>\n",
       "    </tr>\n",
       "    <tr>\n",
       "      <th>Log(female share, manufacturing</th>\n",
       "      <td>-1.576</td>\n",
       "      <td>-1.484</td>\n",
       "      <td>-0.092</td>\n",
       "      <td>0.099</td>\n",
       "      <td>55.0</td>\n",
       "    </tr>\n",
       "  </tbody>\n",
       "</table>\n",
       "</div>"
      ],
      "text/plain": [
       "                                          Treatment  Control     Diff  \\\n",
       "Municipality Characteristics                                            \n",
       "Log(population)                               9.821     9.219  0.602*   \n",
       "Log(land area)                                3.972     3.771   0.201   \n",
       "Log(debt p.c.)                               -0.264    -0.253  -0.011   \n",
       "Log(tax revenues p.c.)                       -0.306    -0.327   0.021   \n",
       "Log(local gov. employment p.c.)              -4.929    -5.080   0.151   \n",
       "Log(female share, local gov. employment)     -1.044    -1.146   0.102   \n",
       "Log(total employment p.c.)                   -1.332    -1.490   0.158   \n",
       "Log(female share, total employment)          -0.887    -0.885  -0.002   \n",
       "Log(manufacturing / total employment)        -1.042    -0.981  -0.061   \n",
       "Log(female share, manufacturing              -1.576    -1.484  -0.092   \n",
       "\n",
       "                                          Std. Error  Observations  \n",
       "Municipality Characteristics                                        \n",
       "Log(population)                                0.300          55.0  \n",
       "Log(land area)                                 0.193          55.0  \n",
       "Log(debt p.c.)                                 0.243          55.0  \n",
       "Log(tax revenues p.c.)                         0.115          55.0  \n",
       "Log(local gov. employment p.c.)                0.145          55.0  \n",
       "Log(female share, local gov. employment)       0.098          55.0  \n",
       "Log(total employment p.c.)                     0.152          55.0  \n",
       "Log(female share, total employment)            0.058          55.0  \n",
       "Log(manufacturing / total employment)          0.126          55.0  \n",
       "Log(female share, manufacturing                0.099          55.0  "
      ]
     },
     "execution_count": 9,
     "metadata": {},
     "output_type": "execute_result"
    }
   ],
   "source": [
    "test_ch_10=t_test_prepare_cha(df_ttest_ch_10)\n",
    "ttest(test_ch_10,\"Municipality Characteristics\")"
   ]
  },
  {
   "cell_type": "markdown",
   "metadata": {},
   "source": [
    "Restricting the rdd-sample to a 10 percent margin of victory on both sides of the cutoff reveals no statistically significant differences in the local employment structure. However, at a significance level of 10%, an increased frequency of female mayor in cities with higher populations can be observed. The effect is barely significant and the authors attribute it to the highly skewed distribution of city sizes."
   ]
  },
  {
   "cell_type": "markdown",
   "metadata": {},
   "source": [
    "## Table A.5: Validity Test I: Discontinutiy In Predicted Rank Improvement Based on Municipality Characteristics"
   ]
  },
  {
   "cell_type": "markdown",
   "metadata": {},
   "source": [
    "Baskaran and Hessami (2018) further analyze if the above-observed differences in municipalities result in a discontinuity of the margin of victory at the cutoff. To test this the authors restrict the rdd-sample to female candidates and regress their performance on the observed municipality characteristics. They use the resulting parameters to construct the predicted average rank improvement of a female candidate. These predicted values are then used as the dependant variable in their model shown in section 4."
   ]
  },
  {
   "cell_type": "code",
   "execution_count": 10,
   "metadata": {},
   "outputs": [
    {
     "name": "stdout",
     "output_type": "stream",
     "text": [
      "The optimal bandwith according to Calonico, Cattaneo & Titiunik (2014) is: 18.805\n",
      "The optimal bandwith according to Imbens & Kalyanaraman (2011) is: 35.682\n",
      "The optimal bandwith according to Calonico, Cattaneo & Titiunik (2014) using a quadratic functional form is: 24.763\n"
     ]
    }
   ],
   "source": [
    "data_rdd_f=get_rdd_data(data,female=True)\n",
    "df_TableA5=prepare_table_a5(data_rdd_f)\n",
    "df_A5_r = DataFrame({\"margin_1\": FloatVector(df_TableA5[\"margin_1\"]), \"y_hat\": FloatVector(df_TableA5[\"y_hat\"])})\n",
    "CCT_bw_A5=rdrobust.rdbwselect_2014(df_A5_r.rx2('y_hat'), df_A5_r.rx2('margin_1'), c = 0, p = 1, q = 0, deriv = 0,kernel = \"tri\", bwselect = \"CCT\")[2][0]\n",
    "IK_bw_A5=rdrobust.rdbwselect_2014(df_A5_r.rx2('y_hat'), df_A5_r.rx2('margin_1'), c = 0, p = 1, q = 0, deriv = 0,kernel = \"tri\", bwselect = \"IK\")[2][0]\n",
    "CCT_quad_bw_A5=rdrobust.rdbwselect_2014(df_A5_r.rx2('y_hat'), df_A5_r.rx2('margin_1'), c = 0, p = 2, q = 0, deriv = 0,kernel = \"tri\", bwselect = \"CCT\")[2][0]\n",
    "print(\"The optimal bandwith according to Calonico, Cattaneo & Titiunik (2014) is: {:5.3f}\".format(CCT_bw_A5))\n",
    "print(\"The optimal bandwith according to Imbens & Kalyanaraman (2011) is: {:5.3f}\".format(IK_bw_A5))\n",
    "print(\"The optimal bandwith according to Calonico, Cattaneo & Titiunik (2014) using a quadratic functional form is: {:5.3f}\".format(CCT_quad_bw_A5))"
   ]
  },
  {
   "cell_type": "code",
   "execution_count": 11,
   "metadata": {},
   "outputs": [
    {
     "data": {
      "text/html": [
       "<div>\n",
       "<style scoped>\n",
       "    .dataframe tbody tr th:only-of-type {\n",
       "        vertical-align: middle;\n",
       "    }\n",
       "\n",
       "    .dataframe tbody tr th {\n",
       "        vertical-align: top;\n",
       "    }\n",
       "\n",
       "    .dataframe thead th {\n",
       "        text-align: right;\n",
       "    }\n",
       "</style>\n",
       "<table border=\"1\" class=\"dataframe\">\n",
       "  <thead>\n",
       "    <tr style=\"text-align: right;\">\n",
       "      <th></th>\n",
       "      <th>Female Mayor</th>\n",
       "      <th>Std.err</th>\n",
       "      <th>Bandwidth type</th>\n",
       "      <th>Bandwidth size</th>\n",
       "      <th>Polynomial</th>\n",
       "      <th>Observations</th>\n",
       "      <th>Elections</th>\n",
       "      <th>Municipalities</th>\n",
       "      <th>Mean</th>\n",
       "      <th>Std.err (Mean)</th>\n",
       "    </tr>\n",
       "    <tr>\n",
       "      <th>Model</th>\n",
       "      <th></th>\n",
       "      <th></th>\n",
       "      <th></th>\n",
       "      <th></th>\n",
       "      <th></th>\n",
       "      <th></th>\n",
       "      <th></th>\n",
       "      <th></th>\n",
       "      <th></th>\n",
       "      <th></th>\n",
       "    </tr>\n",
       "  </thead>\n",
       "  <tbody>\n",
       "    <tr>\n",
       "      <th>(1)</th>\n",
       "      <td>0.422</td>\n",
       "      <td>0.801</td>\n",
       "      <td>CCT</td>\n",
       "      <td>18.8</td>\n",
       "      <td>Linear</td>\n",
       "      <td>71.0</td>\n",
       "      <td>71.0</td>\n",
       "      <td>52.0</td>\n",
       "      <td>-0.45</td>\n",
       "      <td>1.172</td>\n",
       "    </tr>\n",
       "    <tr>\n",
       "      <th>(2)</th>\n",
       "      <td>0.408</td>\n",
       "      <td>1.142</td>\n",
       "      <td>CCT/2</td>\n",
       "      <td>9.4</td>\n",
       "      <td>Linear</td>\n",
       "      <td>44.0</td>\n",
       "      <td>44.0</td>\n",
       "      <td>35.0</td>\n",
       "      <td>-0.52</td>\n",
       "      <td>1.188</td>\n",
       "    </tr>\n",
       "    <tr>\n",
       "      <th>(3)</th>\n",
       "      <td>0.855*</td>\n",
       "      <td>0.508</td>\n",
       "      <td>CCT*2</td>\n",
       "      <td>37.61</td>\n",
       "      <td>Linear</td>\n",
       "      <td>143.0</td>\n",
       "      <td>143.0</td>\n",
       "      <td>96.0</td>\n",
       "      <td>-0.54</td>\n",
       "      <td>1.160</td>\n",
       "    </tr>\n",
       "    <tr>\n",
       "      <th>(4)</th>\n",
       "      <td>0.847</td>\n",
       "      <td>0.525</td>\n",
       "      <td>IK</td>\n",
       "      <td>35.68</td>\n",
       "      <td>Linear</td>\n",
       "      <td>136.0</td>\n",
       "      <td>136.0</td>\n",
       "      <td>94.0</td>\n",
       "      <td>-0.53</td>\n",
       "      <td>1.162</td>\n",
       "    </tr>\n",
       "    <tr>\n",
       "      <th>(5)</th>\n",
       "      <td>0.114</td>\n",
       "      <td>1.032</td>\n",
       "      <td>CCT</td>\n",
       "      <td>24.76</td>\n",
       "      <td>Quadratic</td>\n",
       "      <td>101.0</td>\n",
       "      <td>101.0</td>\n",
       "      <td>74.0</td>\n",
       "      <td>-0.50</td>\n",
       "      <td>1.164</td>\n",
       "    </tr>\n",
       "  </tbody>\n",
       "</table>\n",
       "</div>"
      ],
      "text/plain": [
       "      Female Mayor  Std.err Bandwidth type Bandwidth size Polynomial  \\\n",
       "Model                                                                  \n",
       "(1)          0.422    0.801            CCT           18.8     Linear   \n",
       "(2)          0.408    1.142          CCT/2            9.4     Linear   \n",
       "(3)         0.855*    0.508          CCT*2          37.61     Linear   \n",
       "(4)          0.847    0.525             IK          35.68     Linear   \n",
       "(5)          0.114    1.032            CCT          24.76  Quadratic   \n",
       "\n",
       "       Observations  Elections  Municipalities  Mean  Std.err (Mean)  \n",
       "Model                                                                 \n",
       "(1)            71.0       71.0            52.0 -0.45           1.172  \n",
       "(2)            44.0       44.0            35.0 -0.52           1.188  \n",
       "(3)           143.0      143.0            96.0 -0.54           1.160  \n",
       "(4)           136.0      136.0            94.0 -0.53           1.162  \n",
       "(5)           101.0      101.0            74.0 -0.50           1.164  "
      ]
     },
     "execution_count": 11,
     "metadata": {},
     "output_type": "execute_result"
    }
   ],
   "source": [
    "result1=[df_TableA5,\"linear\",CCT_bw_A5,\"y_hat\",\"CCT\"]\n",
    "result2=[df_TableA5,\"linear\",CCT_bw_A5/2,\"y_hat\",\"CCT/2\"]\n",
    "result3=[df_TableA5,\"linear\",CCT_bw_A5*2,\"y_hat\",\"CCT*2\"]\n",
    "result4=[df_TableA5,\"linear\",IK_bw_A5,\"y_hat\",\"IK\"]\n",
    "result5=[df_TableA5,\"quadratic\",CCT_quad_bw_A5,\"y_hat\",\"CCT\"]\n",
    "reg_tab(result1,result2,result3,result4,result5)"
   ]
  },
  {
   "cell_type": "markdown",
   "metadata": {},
   "source": [
    "Testing the model for the variations as outlined in section 4, the regression shows a significant effect of a female mayor for model 3. However, the effect is barely significant and vanishes as we move closer to the cutoff. The corresponding regression discontinuity plot of the predicted average rank improvement relative to the assignment variable can is presented below."
   ]
  },
  {
   "cell_type": "markdown",
   "metadata": {},
   "source": [
    "## Figure A.1: Validity Test I: Predicted (Normalized) Rank Improvement Based Municipality Characteristics"
   ]
  },
  {
   "cell_type": "code",
   "execution_count": 12,
   "metadata": {},
   "outputs": [
    {
     "data": {
      "image/png": "[encoded data removed]",
      "text/plain": [
       "<Figure size 864x576 with 1 Axes>"
      ]
     },
     "metadata": {
      "needs_background": "light"
     },
     "output_type": "display_data"
    }
   ],
   "source": [
    "figure_A1=subset_by_margin(df_TableA5,30)\n",
    "rdd_plot(figure_A1,3,CCT_bw_A5,100,1,\"y_hat\")"
   ]
  },
  {
   "cell_type": "markdown",
   "metadata": {},
   "source": [
    "---\n",
    "<span style=\"color:red\">**NOTE**:</span> \n",
    "  The confidence intervals above are the result of 100 iterations of resampling the data by bootstrapping. Increasing the number of iterations does not yield different results and only increases the runtime of this notebook.\n",
    "---"
   ]
  },
  {
   "cell_type": "markdown",
   "metadata": {},
   "source": [
    "The dots are the local averages of the predicted rank improvement in bins of a 3 percent margin and the lines are the result of a local linear smooth of the data on each side of the cutoff. The colored areas are the 95 percent bootstrapped confidence intervals of the smooth. There is no indication of a discontinuity conditional on municipality characteristics observable."
   ]
  },
  {
   "cell_type": "markdown",
   "metadata": {},
   "source": [
    "---\n",
    "### 5.2.2 Discontinuity in Density <a name=\"Discontinuity_in_Density\"></a>\n",
    "---"
   ]
  },
  {
   "cell_type": "markdown",
   "metadata": {},
   "source": [
    "## Figure A.2: Validity test II: McCrary Density Plot"
   ]
  },
  {
   "cell_type": "markdown",
   "metadata": {},
   "source": [
    "The authors further test for a general discontinuity in running variable at the cutoff by performing the density test proposed by McCrary (2008). The corresponding McCrary plot is depicted below and shows no significant discontinuity."
   ]
  },
  {
   "cell_type": "code",
   "execution_count": 13,
   "metadata": {},
   "outputs": [],
   "source": [
    "mayor_df=pd.read_stata(\"Data/mayor_election_data.dta\")\n",
    "mayor_df_rdd=mayor_df[mayor_df[\"rdd_sample\"]==1].sort_values(by=['margin_1'])\n",
    "mayor_df_r = DataFrame({\"margin_1\": FloatVector(mayor_df_rdd[\"margin_1\"])})"
   ]
  },
  {
   "cell_type": "code",
   "execution_count": 14,
   "metadata": {},
   "outputs": [
    {
     "data": {
      "image/png": "[encoded data removed]",
      "text/plain": [
       "<Figure size 864x576 with 1 Axes>"
      ]
     },
     "metadata": {
      "needs_background": "light"
     },
     "output_type": "display_data"
    }
   ],
   "source": [
    "grdevices.png(file=\"MCC_Test1.png\", width=512, height=512)\n",
    "p = rddpack.DCdensity(mayor_df_r.rx2(\"margin_1\"),cutpoint=0,plot=True)     \n",
    "grdevices.dev_off()\n",
    "img=mpimg.imread('MCC_Test1.png')\n",
    "fig, ax0 = plt.subplots(1, 1, figsize=(12, 8), tight_layout=True)\n",
    "ax0.imshow(img,aspect='auto')\n",
    "plt.axis('off') \n",
    "plt.show()"
   ]
  },
  {
   "cell_type": "markdown",
   "metadata": {},
   "source": [
    "---\n",
    "### 5.2.3 Confoundedness with Mayor Ideology <a name=\"Confoundedness_with_Mayor_Ideology\"></a>\n",
    "---"
   ]
  },
  {
   "cell_type": "markdown",
   "metadata": {},
   "source": [
    "## Table A.7: Validity Test III: Differences In Ideology Of Female And Male Mayors"
   ]
  },
  {
   "cell_type": "markdown",
   "metadata": {},
   "source": [
    "Another possible pitfall for a causal interpretation of the regression discontinuity design in Baskaran and Hessami (2018) could be the ideological difference in elected male and female mayor. If such a systematic difference is present,  voters might prefer female council members if they think that they can work more effectively with the mayor of a given ideology. Using party affiliation as a proxy for ideological differences the authors test if female and male candidates differ systemically in their party membership.  The results of the corresponding t-tests are presented below, where the first table reports outcomes for the entire rdd-sample, and the second table shows the results for elections where the winner was determined within a 10 percent vote margin. None of the differences are statistically significant, suggesting no difference in ideology between elected female and male mayors."
   ]
  },
  {
   "cell_type": "code",
   "execution_count": 15,
   "metadata": {},
   "outputs": [
    {
     "data": {
      "text/html": [
       "<div>\n",
       "<style scoped>\n",
       "    .dataframe tbody tr th:only-of-type {\n",
       "        vertical-align: middle;\n",
       "    }\n",
       "\n",
       "    .dataframe tbody tr th {\n",
       "        vertical-align: top;\n",
       "    }\n",
       "\n",
       "    .dataframe thead th {\n",
       "        text-align: right;\n",
       "    }\n",
       "</style>\n",
       "<table border=\"1\" class=\"dataframe\">\n",
       "  <thead>\n",
       "    <tr style=\"text-align: right;\">\n",
       "      <th></th>\n",
       "      <th>Treatment</th>\n",
       "      <th>Control</th>\n",
       "      <th>Diff</th>\n",
       "      <th>Std. Error</th>\n",
       "      <th>Observations</th>\n",
       "    </tr>\n",
       "    <tr>\n",
       "      <th>Party</th>\n",
       "      <th></th>\n",
       "      <th></th>\n",
       "      <th></th>\n",
       "      <th></th>\n",
       "      <th></th>\n",
       "    </tr>\n",
       "  </thead>\n",
       "  <tbody>\n",
       "    <tr>\n",
       "      <th>CDU</th>\n",
       "      <td>0.31</td>\n",
       "      <td>0.315</td>\n",
       "      <td>-0.005</td>\n",
       "      <td>0.061</td>\n",
       "      <td>268.0</td>\n",
       "    </tr>\n",
       "    <tr>\n",
       "      <th>SPD</th>\n",
       "      <td>0.44</td>\n",
       "      <td>0.386</td>\n",
       "      <td>0.054</td>\n",
       "      <td>0.065</td>\n",
       "      <td>268.0</td>\n",
       "    </tr>\n",
       "    <tr>\n",
       "      <th>Other</th>\n",
       "      <td>0.25</td>\n",
       "      <td>0.299</td>\n",
       "      <td>-0.049</td>\n",
       "      <td>0.059</td>\n",
       "      <td>268.0</td>\n",
       "    </tr>\n",
       "  </tbody>\n",
       "</table>\n",
       "</div>"
      ],
      "text/plain": [
       "       Treatment  Control     Diff  Std. Error  Observations\n",
       "Party                                                       \n",
       "CDU         0.31     0.315  -0.005       0.061         268.0\n",
       "SPD         0.44     0.386   0.054       0.065         268.0\n",
       "Other       0.25     0.299  -0.049       0.059         268.0"
      ]
     },
     "execution_count": 15,
     "metadata": {},
     "output_type": "execute_result"
    }
   ],
   "source": [
    "ttest_pa_all=t_test_prepare_party(mayor_df_rdd)\n",
    "mayor_df_rdd_test_10=subset_by_margin(mayor_df_rdd,10)\n",
    "ttest_pa_10=t_test_prepare_party(mayor_df_rdd_test_10)\n",
    "ttest(ttest_pa_all,\"Party\")"
   ]
  },
  {
   "cell_type": "code",
   "execution_count": 16,
   "metadata": {},
   "outputs": [
    {
     "data": {
      "text/html": [
       "<div>\n",
       "<style scoped>\n",
       "    .dataframe tbody tr th:only-of-type {\n",
       "        vertical-align: middle;\n",
       "    }\n",
       "\n",
       "    .dataframe tbody tr th {\n",
       "        vertical-align: top;\n",
       "    }\n",
       "\n",
       "    .dataframe thead th {\n",
       "        text-align: right;\n",
       "    }\n",
       "</style>\n",
       "<table border=\"1\" class=\"dataframe\">\n",
       "  <thead>\n",
       "    <tr style=\"text-align: right;\">\n",
       "      <th></th>\n",
       "      <th>Treatment</th>\n",
       "      <th>Control</th>\n",
       "      <th>Diff</th>\n",
       "      <th>Std. Error</th>\n",
       "      <th>Observations</th>\n",
       "    </tr>\n",
       "    <tr>\n",
       "      <th>Party</th>\n",
       "      <th></th>\n",
       "      <th></th>\n",
       "      <th></th>\n",
       "      <th></th>\n",
       "      <th></th>\n",
       "    </tr>\n",
       "  </thead>\n",
       "  <tbody>\n",
       "    <tr>\n",
       "      <th>CDU</th>\n",
       "      <td>0.448</td>\n",
       "      <td>0.308</td>\n",
       "      <td>0.14</td>\n",
       "      <td>0.130</td>\n",
       "      <td>55.0</td>\n",
       "    </tr>\n",
       "    <tr>\n",
       "      <th>SPD</th>\n",
       "      <td>0.276</td>\n",
       "      <td>0.308</td>\n",
       "      <td>-0.032</td>\n",
       "      <td>0.123</td>\n",
       "      <td>55.0</td>\n",
       "    </tr>\n",
       "    <tr>\n",
       "      <th>Other</th>\n",
       "      <td>0.276</td>\n",
       "      <td>0.385</td>\n",
       "      <td>-0.109</td>\n",
       "      <td>0.126</td>\n",
       "      <td>55.0</td>\n",
       "    </tr>\n",
       "  </tbody>\n",
       "</table>\n",
       "</div>"
      ],
      "text/plain": [
       "       Treatment  Control     Diff  Std. Error  Observations\n",
       "Party                                                       \n",
       "CDU        0.448     0.308    0.14       0.130          55.0\n",
       "SPD        0.276     0.308  -0.032       0.123          55.0\n",
       "Other      0.276     0.385  -0.109       0.126          55.0"
      ]
     },
     "execution_count": 16,
     "metadata": {},
     "output_type": "execute_result"
    }
   ],
   "source": [
    "ttest(ttest_pa_10,\"Party\")"
   ]
  },
  {
   "cell_type": "markdown",
   "metadata": {},
   "source": [
    "---\n",
    "##  5.3 Main Results <a name=\"Main_Results\"></a>\n",
    "---"
   ]
  },
  {
   "cell_type": "markdown",
   "metadata": {},
   "source": [
    "### 5.3.1 Graphical Evidence <a name=\"Graphical_Evidence\"></a>\n",
    "---"
   ]
  },
  {
   "cell_type": "markdown",
   "metadata": {},
   "source": [
    "## Figure 2. Rank Improvement of Female Candidates"
   ]
  },
  {
   "cell_type": "code",
   "execution_count": 17,
   "metadata": {},
   "outputs": [
    {
     "name": "stdout",
     "output_type": "stream",
     "text": [
      "The optimal bandwith according to Calonico, Cattaneo & Titiunik (2014) is: 20.100\n"
     ]
    }
   ],
   "source": [
    "data_rdd=get_rdd_data(data,female=False)\n",
    "df_r = DataFrame({\"margin_1\": FloatVector(data_rdd_f[\"margin_1\"]), \"gewinn_norm\": FloatVector(data_rdd_f[\"gewinn_norm\"])})\n",
    "CCT_bw_I=rdrobust.rdbwselect_2014(df_r.rx2('gewinn_norm'), df_r.rx2('margin_1'), c = 0, p = 1, q = 0, deriv = 0,kernel = \"tri\", bwselect = \"CCT\")[2][0]\n",
    "print(\"The optimal bandwith according to Calonico, Cattaneo & Titiunik (2014) is: {:5.3f}\".format(CCT_bw_I))"
   ]
  },
  {
   "cell_type": "code",
   "execution_count": 18,
   "metadata": {},
   "outputs": [
    {
     "data": {
      "image/png": "[encoded data removed]",
      "text/plain": [
       "<Figure size 864x576 with 1 Axes>"
      ]
     },
     "metadata": {
      "needs_background": "light"
     },
     "output_type": "display_data"
    }
   ],
   "source": [
    "data_fig2=subset_by_margin(data_rdd_f,30)\n",
    "rdd_plot(data_fig2,3,CCT_bw_I,100,100,\"gewinn_norm\")"
   ]
  },
  {
   "cell_type": "markdown",
   "metadata": {},
   "source": [
    "Figure 2 shows the regression discontinuity plot for the observed rank improvement of female candidates in the rdd-sample. The dots are again the local averages of rank improvement for bins of 3 percent, the lines are the results from local linear smooths on both sides, plotted with their respective confidence intervals. Since potential confounding factors have been ruled out the observed and significant discontinuity is attributed by Baskaran & Hessami  (2018) to the treatment effect of a female mayor. At the threshold an average rank improvement of 3.7. ranks (per 100 seats) takes place if a female mayor has been recently elected into the office."
   ]
  },
  {
   "cell_type": "markdown",
   "metadata": {},
   "source": [
    "---\n",
    "<span style=\"color:red\">**NOTE**:</span> \n",
    "  The confidence intervals above are the result of 100 iterations of resampling the data by bootstrapping. Increasing the number of iterations does not yield different results and only increases the runtime of this notebook.\n",
    "---"
   ]
  },
  {
   "cell_type": "markdown",
   "metadata": {},
   "source": [
    "### 5.3.2 Main Result I - Rank improvement of female Council Candiates <a name=\"Main_Result_I\"></a>\n",
    "---"
   ]
  },
  {
   "cell_type": "markdown",
   "metadata": {},
   "source": [
    "## Table 2 - Baseline Results: Rank Improvment fo Female Candidates"
   ]
  },
  {
   "cell_type": "code",
   "execution_count": 19,
   "metadata": {},
   "outputs": [
    {
     "name": "stdout",
     "output_type": "stream",
     "text": [
      "The optimal bandwith according to Calonico, Cattaneo & Titiunik (2014) is: 20.100\n",
      "The optimal bandwith according to Imbens & Kalyanaraman (2011) is: 35.587\n",
      "The optimal bandwith according to Calonico, Cattaneo & Titiunik (2014) using a quadratic functional form is: 19.932\n"
     ]
    }
   ],
   "source": [
    "CCT_bw_I=rdrobust.rdbwselect_2014(df_r.rx2('gewinn_norm'), df_r.rx2('margin_1'), c = 0, p = 1, q = 0, deriv = 0,kernel = \"tri\", bwselect = \"CCT\")[2][0]\n",
    "IK_bw_I=rdrobust.rdbwselect_2014(df_r.rx2('gewinn_norm'), df_r.rx2('margin_1'), c = 0, p = 1, q = 0, deriv = 0,kernel = \"tri\", bwselect = \"IK\")[2][0]\n",
    "CCT_quad_bw_I=rdrobust.rdbwselect_2014(df_r.rx2('gewinn_norm'), df_r.rx2('margin_1'), c = 0, p = 2, q = 0, deriv = 0,kernel = \"tri\", bwselect = \"CCT\")[2][0]\n",
    "print(\"The optimal bandwith according to Calonico, Cattaneo & Titiunik (2014) is: {:5.3f}\".format(CCT_bw_I))\n",
    "print(\"The optimal bandwith according to Imbens & Kalyanaraman (2011) is: {:5.3f}\".format(IK_bw_I))\n",
    "print(\"The optimal bandwith according to Calonico, Cattaneo & Titiunik (2014) using a quadratic functional form is: {:5.3f}\".format(CCT_quad_bw_I))"
   ]
  },
  {
   "cell_type": "code",
   "execution_count": 20,
   "metadata": {},
   "outputs": [],
   "source": [
    "result1=[data_rdd_f,\"linear\",CCT_bw_I,\"gewinn_norm\",\"CCT\"]\n",
    "result2=[data_rdd_f,\"linear\",CCT_bw_I/2,\"gewinn_norm\",\"CCT/2\"]\n",
    "result3=[data_rdd_f,\"linear\",CCT_bw_I*2,\"gewinn_norm\",\"CCT*2\"]\n",
    "result4=[data_rdd_f,\"linear\",IK_bw_I,\"gewinn_norm\",\"IK\"]\n",
    "result5=[data_rdd_f,\"quadratic\",CCT_quad_bw_I,\"gewinn_norm\",\"CCT\"]"
   ]
  },
  {
   "cell_type": "code",
   "execution_count": 21,
   "metadata": {},
   "outputs": [
    {
     "data": {
      "text/html": [
       "<div>\n",
       "<style scoped>\n",
       "    .dataframe tbody tr th:only-of-type {\n",
       "        vertical-align: middle;\n",
       "    }\n",
       "\n",
       "    .dataframe tbody tr th {\n",
       "        vertical-align: top;\n",
       "    }\n",
       "\n",
       "    .dataframe thead th {\n",
       "        text-align: right;\n",
       "    }\n",
       "</style>\n",
       "<table border=\"1\" class=\"dataframe\">\n",
       "  <thead>\n",
       "    <tr style=\"text-align: right;\">\n",
       "      <th></th>\n",
       "      <th>Female Mayor</th>\n",
       "      <th>Std.err</th>\n",
       "      <th>Bandwidth type</th>\n",
       "      <th>Bandwidth size</th>\n",
       "      <th>Polynomial</th>\n",
       "      <th>Observations</th>\n",
       "      <th>Elections</th>\n",
       "      <th>Municipalities</th>\n",
       "      <th>Mean</th>\n",
       "      <th>Std.err (Mean)</th>\n",
       "    </tr>\n",
       "    <tr>\n",
       "      <th>Model</th>\n",
       "      <th></th>\n",
       "      <th></th>\n",
       "      <th></th>\n",
       "      <th></th>\n",
       "      <th></th>\n",
       "      <th></th>\n",
       "      <th></th>\n",
       "      <th></th>\n",
       "      <th></th>\n",
       "      <th></th>\n",
       "    </tr>\n",
       "  </thead>\n",
       "  <tbody>\n",
       "    <tr>\n",
       "      <th>(1)</th>\n",
       "      <td>3.712***</td>\n",
       "      <td>0.980</td>\n",
       "      <td>CCT</td>\n",
       "      <td>20.1</td>\n",
       "      <td>Linear</td>\n",
       "      <td>2878.0</td>\n",
       "      <td>77.0</td>\n",
       "      <td>56.0</td>\n",
       "      <td>0.41</td>\n",
       "      <td>10.947</td>\n",
       "    </tr>\n",
       "    <tr>\n",
       "      <th>(2)</th>\n",
       "      <td>3.322**</td>\n",
       "      <td>1.491</td>\n",
       "      <td>CCT/2</td>\n",
       "      <td>10.05</td>\n",
       "      <td>Linear</td>\n",
       "      <td>1784.0</td>\n",
       "      <td>46.0</td>\n",
       "      <td>37.0</td>\n",
       "      <td>0.73</td>\n",
       "      <td>10.750</td>\n",
       "    </tr>\n",
       "    <tr>\n",
       "      <th>(3)</th>\n",
       "      <td>2.836***</td>\n",
       "      <td>0.548</td>\n",
       "      <td>CCT*2</td>\n",
       "      <td>40.2</td>\n",
       "      <td>Linear</td>\n",
       "      <td>5232.0</td>\n",
       "      <td>155.0</td>\n",
       "      <td>102.0</td>\n",
       "      <td>0.27</td>\n",
       "      <td>11.327</td>\n",
       "    </tr>\n",
       "    <tr>\n",
       "      <th>(4)</th>\n",
       "      <td>3.124***</td>\n",
       "      <td>0.613</td>\n",
       "      <td>IK</td>\n",
       "      <td>35.59</td>\n",
       "      <td>Linear</td>\n",
       "      <td>4803.0</td>\n",
       "      <td>139.0</td>\n",
       "      <td>94.0</td>\n",
       "      <td>0.21</td>\n",
       "      <td>11.364</td>\n",
       "    </tr>\n",
       "    <tr>\n",
       "      <th>(5)</th>\n",
       "      <td>3.293**</td>\n",
       "      <td>1.545</td>\n",
       "      <td>CCT</td>\n",
       "      <td>19.93</td>\n",
       "      <td>Quadratic</td>\n",
       "      <td>2842.0</td>\n",
       "      <td>76.0</td>\n",
       "      <td>55.0</td>\n",
       "      <td>0.41</td>\n",
       "      <td>10.996</td>\n",
       "    </tr>\n",
       "  </tbody>\n",
       "</table>\n",
       "</div>"
      ],
      "text/plain": [
       "      Female Mayor  Std.err Bandwidth type Bandwidth size Polynomial  \\\n",
       "Model                                                                  \n",
       "(1)       3.712***    0.980            CCT           20.1     Linear   \n",
       "(2)        3.322**    1.491          CCT/2          10.05     Linear   \n",
       "(3)       2.836***    0.548          CCT*2           40.2     Linear   \n",
       "(4)       3.124***    0.613             IK          35.59     Linear   \n",
       "(5)        3.293**    1.545            CCT          19.93  Quadratic   \n",
       "\n",
       "       Observations  Elections  Municipalities  Mean  Std.err (Mean)  \n",
       "Model                                                                 \n",
       "(1)          2878.0       77.0            56.0  0.41          10.947  \n",
       "(2)          1784.0       46.0            37.0  0.73          10.750  \n",
       "(3)          5232.0      155.0           102.0  0.27          11.327  \n",
       "(4)          4803.0      139.0            94.0  0.21          11.364  \n",
       "(5)          2842.0       76.0            55.0  0.41          10.996  "
      ]
     },
     "execution_count": 21,
     "metadata": {},
     "output_type": "execute_result"
    }
   ],
   "source": [
    "reg_tab(result1,result2,result3,result4,result5)"
   ]
  },
  {
   "cell_type": "markdown",
   "metadata": {},
   "source": [
    "Table 2 reports the results of the regression outlined in section 4, with rank improvements of female candidates as the dependant variable. For the linear models that use the bandwidths by Imbens & Kalyanaraman (2011) and Calonico, Cattaneo & Titiunik (2014) (and the bandwidth multiplied by two), the average rank improvement ranges from 2.8 to  3.7, while being significant at a level of 1 percent. The remaining two models report an average rank improvement of roughly 3.2 ranks while being significant at the 5 percent level.  "
   ]
  },
  {
   "cell_type": "markdown",
   "metadata": {},
   "source": [
    "### 5.3.3 Main Result II - Share of Women Among Candidates Elected to the Council <a name=\"Main_Result_II\"></a>\n",
    "---"
   ]
  },
  {
   "cell_type": "markdown",
   "metadata": {},
   "source": [
    "## Table 3 - Baseline Results II: Share of Women Among Candidates Elected to the Council"
   ]
  },
  {
   "cell_type": "code",
   "execution_count": 22,
   "metadata": {},
   "outputs": [
    {
     "name": "stdout",
     "output_type": "stream",
     "text": [
      "The optimal bandwith according to Calonico, Cattaneo & Titiunik (2014) is: 23.900\n",
      "The optimal bandwith according to Imbens & Kalyanaraman (2011) is: 21.159\n",
      "The optimal bandwith according to Calonico, Cattaneo & Titiunik (2014) using a quadratic functional form is: 25.496\n"
     ]
    }
   ],
   "source": [
    "data_rdd_e=data_rdd[data_rdd[\"elected\"]==1]\n",
    "df_r_mix = DataFrame({\"margin_1\": FloatVector(data_rdd_e[\"margin_1\"]), \"female\": FloatVector(data_rdd_e[\"female\"])})\n",
    "CCT_bw_II=rdrobust.rdbwselect_2014(df_r_mix.rx2('female'), df_r_mix.rx2('margin_1'), c = 0, p = 1, q = 0, deriv = 0,kernel = \"tri\", bwselect = \"CCT\")[2][0]\n",
    "IK_bw_II=rdrobust.rdbwselect_2014(df_r_mix.rx2('female'), df_r_mix.rx2('margin_1'), c = 0, p = 1, q = 0, deriv = 0,kernel = \"tri\", bwselect = \"IK\")[2][0]\n",
    "CCT_quad_bw_II=rdrobust.rdbwselect_2014(df_r_mix.rx2('female'), df_r_mix.rx2('margin_1'), c = 0, p = 2, q = 0, deriv = 0,kernel = \"tri\", bwselect = \"CCT\")[2][0]\n",
    "print(\"The optimal bandwith according to Calonico, Cattaneo & Titiunik (2014) is: {:5.3f}\".format(CCT_bw_II))\n",
    "print(\"The optimal bandwith according to Imbens & Kalyanaraman (2011) is: {:5.3f}\".format(IK_bw_II))\n",
    "print(\"The optimal bandwith according to Calonico, Cattaneo & Titiunik (2014) using a quadratic functional form is: {:5.3f}\".format(CCT_quad_bw_II))"
   ]
  },
  {
   "cell_type": "code",
   "execution_count": 23,
   "metadata": {},
   "outputs": [
    {
     "data": {
      "text/html": [
       "<div>\n",
       "<style scoped>\n",
       "    .dataframe tbody tr th:only-of-type {\n",
       "        vertical-align: middle;\n",
       "    }\n",
       "\n",
       "    .dataframe tbody tr th {\n",
       "        vertical-align: top;\n",
       "    }\n",
       "\n",
       "    .dataframe thead th {\n",
       "        text-align: right;\n",
       "    }\n",
       "</style>\n",
       "<table border=\"1\" class=\"dataframe\">\n",
       "  <thead>\n",
       "    <tr style=\"text-align: right;\">\n",
       "      <th></th>\n",
       "      <th>Female Mayor</th>\n",
       "      <th>Std.err</th>\n",
       "      <th>Bandwidth type</th>\n",
       "      <th>Bandwidth size</th>\n",
       "      <th>Polynomial</th>\n",
       "      <th>Observations</th>\n",
       "      <th>Elections</th>\n",
       "      <th>Municipalities</th>\n",
       "      <th>Mean</th>\n",
       "      <th>Std.err (Mean)</th>\n",
       "    </tr>\n",
       "    <tr>\n",
       "      <th>Model</th>\n",
       "      <th></th>\n",
       "      <th></th>\n",
       "      <th></th>\n",
       "      <th></th>\n",
       "      <th></th>\n",
       "      <th></th>\n",
       "      <th></th>\n",
       "      <th></th>\n",
       "      <th></th>\n",
       "      <th></th>\n",
       "    </tr>\n",
       "  </thead>\n",
       "  <tbody>\n",
       "    <tr>\n",
       "      <th>(1)</th>\n",
       "      <td>0.041</td>\n",
       "      <td>0.042</td>\n",
       "      <td>CCT</td>\n",
       "      <td>23.9</td>\n",
       "      <td>Linear</td>\n",
       "      <td>3463.0</td>\n",
       "      <td>96.0</td>\n",
       "      <td>72.0</td>\n",
       "      <td>0.27</td>\n",
       "      <td>0.446</td>\n",
       "    </tr>\n",
       "    <tr>\n",
       "      <th>(2)</th>\n",
       "      <td>0.045</td>\n",
       "      <td>0.043</td>\n",
       "      <td>CCT/2</td>\n",
       "      <td>11.95</td>\n",
       "      <td>Linear</td>\n",
       "      <td>2033.0</td>\n",
       "      <td>55.0</td>\n",
       "      <td>44.0</td>\n",
       "      <td>0.27</td>\n",
       "      <td>0.446</td>\n",
       "    </tr>\n",
       "    <tr>\n",
       "      <th>(3)</th>\n",
       "      <td>0.038</td>\n",
       "      <td>0.035</td>\n",
       "      <td>CCT*2</td>\n",
       "      <td>47.8</td>\n",
       "      <td>Linear</td>\n",
       "      <td>6135.0</td>\n",
       "      <td>178.0</td>\n",
       "      <td>116.0</td>\n",
       "      <td>0.26</td>\n",
       "      <td>0.441</td>\n",
       "    </tr>\n",
       "    <tr>\n",
       "      <th>(4)</th>\n",
       "      <td>0.042</td>\n",
       "      <td>0.043</td>\n",
       "      <td>IK</td>\n",
       "      <td>21.16</td>\n",
       "      <td>Linear</td>\n",
       "      <td>3056.0</td>\n",
       "      <td>85.0</td>\n",
       "      <td>63.0</td>\n",
       "      <td>0.27</td>\n",
       "      <td>0.446</td>\n",
       "    </tr>\n",
       "    <tr>\n",
       "      <th>(5)</th>\n",
       "      <td>0.05</td>\n",
       "      <td>0.046</td>\n",
       "      <td>CCT</td>\n",
       "      <td>25.5</td>\n",
       "      <td>Quadratic</td>\n",
       "      <td>3796.0</td>\n",
       "      <td>107.0</td>\n",
       "      <td>77.0</td>\n",
       "      <td>0.27</td>\n",
       "      <td>0.445</td>\n",
       "    </tr>\n",
       "  </tbody>\n",
       "</table>\n",
       "</div>"
      ],
      "text/plain": [
       "      Female Mayor  Std.err Bandwidth type Bandwidth size Polynomial  \\\n",
       "Model                                                                  \n",
       "(1)          0.041    0.042            CCT           23.9     Linear   \n",
       "(2)          0.045    0.043          CCT/2          11.95     Linear   \n",
       "(3)          0.038    0.035          CCT*2           47.8     Linear   \n",
       "(4)          0.042    0.043             IK          21.16     Linear   \n",
       "(5)           0.05    0.046            CCT           25.5  Quadratic   \n",
       "\n",
       "       Observations  Elections  Municipalities  Mean  Std.err (Mean)  \n",
       "Model                                                                 \n",
       "(1)          3463.0       96.0            72.0  0.27           0.446  \n",
       "(2)          2033.0       55.0            44.0  0.27           0.446  \n",
       "(3)          6135.0      178.0           116.0  0.26           0.441  \n",
       "(4)          3056.0       85.0            63.0  0.27           0.446  \n",
       "(5)          3796.0      107.0            77.0  0.27           0.445  "
      ]
     },
     "execution_count": 23,
     "metadata": {},
     "output_type": "execute_result"
    }
   ],
   "source": [
    "data_rdd=get_rdd_data(data,female=False)\n",
    "data_rdd_e=data_rdd.loc[(data_rdd[\"elected\"] == 1)]\n",
    "\n",
    "result2_1=[data_rdd_e,\"linear\",CCT_bw_II,\"female\",\"CCT\"]\n",
    "result2_2=[data_rdd_e,\"linear\",CCT_bw_II/2,\"female\",\"CCT/2\"]\n",
    "result2_3=[data_rdd_e,\"linear\",CCT_bw_II*2,\"female\",\"CCT*2\"]\n",
    "result2_4=[data_rdd_e,\"linear\",IK_bw_II,\"female\",\"IK\"]\n",
    "result2_5=[data_rdd_e,\"quadratic\",CCT_quad_bw_II,\"female\",\"CCT\"]\n",
    "\n",
    "reg_tab(result2_1,result2_2,result2_3,result2_4,result2_5)"
   ]
  },
  {
   "cell_type": "markdown",
   "metadata": {},
   "source": [
    "Table 3 reports the results of the specified regression with a dummy variable as the dependent variable that takes on the value 1 if an elected council candidate is female. None of the different specifications report a significant effect of a female mayor.  However, this is likely due to the marginal effect of rank improvement,  as it only enables female candidates with a sufficient initial rank to get elected."
   ]
  },
  {
   "cell_type": "markdown",
   "metadata": {},
   "source": [
    "---\n",
    "#  6. Extension <a name=\"Extension\"></a>\n",
    "---"
   ]
  },
  {
   "cell_type": "markdown",
   "metadata": {},
   "source": [
    "##  6.1 Data and Descriptive Summary for Main Analysis <a name=\"Data_and_Descriptive_Summary_for_Main_Analysis\"></a>\n",
    "---"
   ]
  },
  {
   "cell_type": "code",
   "execution_count": 24,
   "metadata": {},
   "outputs": [
    {
     "data": {
      "image/png": "[encoded data removed]",
      "text/plain": [
       "<Figure size 1080x432 with 2 Axes>"
      ]
     },
     "metadata": {
      "needs_background": "light"
     },
     "output_type": "display_data"
    }
   ],
   "source": [
    "fig1_a=data_fig1_a(data,ext=True)\n",
    "fig1_b=data_fig1_b(data,ext=True)\n",
    "plt1_1=(fig1_a[0],\"Full-sample\")\n",
    "plt1_2=(fig1_a[1],\"RDD-sample\")\n",
    "plt2_1=(fig1_b[0],\"Full-sample\")\n",
    "plt2_2=(fig1_b[1],\"Female\")\n",
    "plt2_3=(fig1_b[2],\"RDD-Sample\")\n",
    "plt2_4=(fig1_b[3],\"RDD-Sample-Female\")\n",
    "figure1_plot_extension(plt1_1,plt1_2,plt2_1,plt2_2,plt2_3,plt2_4)"
   ]
  },
  {
   "cell_type": "markdown",
   "metadata": {},
   "source": [
    "In addition to the total number of municipalities and candidates presented by Baskaran & Hessami (2018), I have added the respective statistics for the rdd-sample that is used in the actual analysis. It is noteworthy, that while the proportion of data used in the regression discontinuity analysis remains constant (ranging from roughly 15 to 20 percent), the total amount of data available in the main analysis is extremly small compared to the overall sample size as presented by the authors. "
   ]
  },
  {
   "cell_type": "markdown",
   "metadata": {},
   "source": [
    "### Summary Statistics for all council candidates in rdd-sample"
   ]
  },
  {
   "cell_type": "code",
   "execution_count": 25,
   "metadata": {},
   "outputs": [
    {
     "data": {
      "text/html": [
       "<div>\n",
       "<style scoped>\n",
       "    .dataframe tbody tr th:only-of-type {\n",
       "        vertical-align: middle;\n",
       "    }\n",
       "\n",
       "    .dataframe tbody tr th {\n",
       "        vertical-align: top;\n",
       "    }\n",
       "\n",
       "    .dataframe thead th {\n",
       "        text-align: right;\n",
       "    }\n",
       "</style>\n",
       "<table border=\"1\" class=\"dataframe\">\n",
       "  <thead>\n",
       "    <tr style=\"text-align: right;\">\n",
       "      <th></th>\n",
       "      <th>count</th>\n",
       "      <th>mean</th>\n",
       "      <th>std</th>\n",
       "      <th>min</th>\n",
       "      <th>max</th>\n",
       "    </tr>\n",
       "  </thead>\n",
       "  <tbody>\n",
       "    <tr>\n",
       "      <th>Rank improvement (normalized)</th>\n",
       "      <td>23169.0</td>\n",
       "      <td>0.051748</td>\n",
       "      <td>12.466993</td>\n",
       "      <td>-68.000000</td>\n",
       "      <td>97.297295</td>\n",
       "    </tr>\n",
       "    <tr>\n",
       "      <th>Initial list rank (normalized)</th>\n",
       "      <td>23169.0</td>\n",
       "      <td>39.327198</td>\n",
       "      <td>26.550978</td>\n",
       "      <td>1.075269</td>\n",
       "      <td>100.000000</td>\n",
       "    </tr>\n",
       "    <tr>\n",
       "      <th>Age</th>\n",
       "      <td>11792.0</td>\n",
       "      <td>52.181648</td>\n",
       "      <td>13.866792</td>\n",
       "      <td>18.000000</td>\n",
       "      <td>96.000000</td>\n",
       "    </tr>\n",
       "    <tr>\n",
       "      <th>High school</th>\n",
       "      <td>10422.0</td>\n",
       "      <td>0.619363</td>\n",
       "      <td>0.485567</td>\n",
       "      <td>0.000000</td>\n",
       "      <td>1.000000</td>\n",
       "    </tr>\n",
       "    <tr>\n",
       "      <th>University</th>\n",
       "      <td>10422.0</td>\n",
       "      <td>0.298023</td>\n",
       "      <td>0.457412</td>\n",
       "      <td>0.000000</td>\n",
       "      <td>1.000000</td>\n",
       "    </tr>\n",
       "    <tr>\n",
       "      <th>Phd</th>\n",
       "      <td>10422.0</td>\n",
       "      <td>0.082614</td>\n",
       "      <td>0.275311</td>\n",
       "      <td>0.000000</td>\n",
       "      <td>1.000000</td>\n",
       "    </tr>\n",
       "    <tr>\n",
       "      <th>Architect</th>\n",
       "      <td>10534.0</td>\n",
       "      <td>0.010158</td>\n",
       "      <td>0.100276</td>\n",
       "      <td>0.000000</td>\n",
       "      <td>1.000000</td>\n",
       "    </tr>\n",
       "    <tr>\n",
       "      <th>Businesswoman/-man</th>\n",
       "      <td>10534.0</td>\n",
       "      <td>0.078223</td>\n",
       "      <td>0.268535</td>\n",
       "      <td>0.000000</td>\n",
       "      <td>1.000000</td>\n",
       "    </tr>\n",
       "    <tr>\n",
       "      <th>Engineer</th>\n",
       "      <td>10534.0</td>\n",
       "      <td>0.059711</td>\n",
       "      <td>0.236963</td>\n",
       "      <td>0.000000</td>\n",
       "      <td>1.000000</td>\n",
       "    </tr>\n",
       "    <tr>\n",
       "      <th>Lawyer</th>\n",
       "      <td>10534.0</td>\n",
       "      <td>0.037877</td>\n",
       "      <td>0.190909</td>\n",
       "      <td>0.000000</td>\n",
       "      <td>1.000000</td>\n",
       "    </tr>\n",
       "    <tr>\n",
       "      <th>Civil administration</th>\n",
       "      <td>10534.0</td>\n",
       "      <td>0.075090</td>\n",
       "      <td>0.263549</td>\n",
       "      <td>0.000000</td>\n",
       "      <td>1.000000</td>\n",
       "    </tr>\n",
       "    <tr>\n",
       "      <th>Teacher</th>\n",
       "      <td>10534.0</td>\n",
       "      <td>0.053066</td>\n",
       "      <td>0.224176</td>\n",
       "      <td>0.000000</td>\n",
       "      <td>1.000000</td>\n",
       "    </tr>\n",
       "    <tr>\n",
       "      <th>Employed</th>\n",
       "      <td>11925.0</td>\n",
       "      <td>0.701468</td>\n",
       "      <td>0.457633</td>\n",
       "      <td>0.000000</td>\n",
       "      <td>1.000000</td>\n",
       "    </tr>\n",
       "    <tr>\n",
       "      <th>Self-employed</th>\n",
       "      <td>11925.0</td>\n",
       "      <td>0.059706</td>\n",
       "      <td>0.236952</td>\n",
       "      <td>0.000000</td>\n",
       "      <td>1.000000</td>\n",
       "    </tr>\n",
       "    <tr>\n",
       "      <th>Student</th>\n",
       "      <td>11925.0</td>\n",
       "      <td>0.044528</td>\n",
       "      <td>0.206274</td>\n",
       "      <td>0.000000</td>\n",
       "      <td>1.000000</td>\n",
       "    </tr>\n",
       "    <tr>\n",
       "      <th>Retired</th>\n",
       "      <td>11925.0</td>\n",
       "      <td>0.152537</td>\n",
       "      <td>0.359555</td>\n",
       "      <td>0.000000</td>\n",
       "      <td>1.000000</td>\n",
       "    </tr>\n",
       "    <tr>\n",
       "      <th>Housewife/-husband</th>\n",
       "      <td>11925.0</td>\n",
       "      <td>0.024822</td>\n",
       "      <td>0.155588</td>\n",
       "      <td>0.000000</td>\n",
       "      <td>1.000000</td>\n",
       "    </tr>\n",
       "  </tbody>\n",
       "</table>\n",
       "</div>"
      ],
      "text/plain": [
       "                                  count       mean        std        min  \\\n",
       "Rank improvement (normalized)   23169.0   0.051748  12.466993 -68.000000   \n",
       "Initial list rank (normalized)  23169.0  39.327198  26.550978   1.075269   \n",
       "Age                             11792.0  52.181648  13.866792  18.000000   \n",
       "High school                     10422.0   0.619363   0.485567   0.000000   \n",
       "University                      10422.0   0.298023   0.457412   0.000000   \n",
       "Phd                             10422.0   0.082614   0.275311   0.000000   \n",
       "Architect                       10534.0   0.010158   0.100276   0.000000   \n",
       "Businesswoman/-man              10534.0   0.078223   0.268535   0.000000   \n",
       "Engineer                        10534.0   0.059711   0.236963   0.000000   \n",
       "Lawyer                          10534.0   0.037877   0.190909   0.000000   \n",
       "Civil administration            10534.0   0.075090   0.263549   0.000000   \n",
       "Teacher                         10534.0   0.053066   0.224176   0.000000   \n",
       "Employed                        11925.0   0.701468   0.457633   0.000000   \n",
       "Self-employed                   11925.0   0.059706   0.236952   0.000000   \n",
       "Student                         11925.0   0.044528   0.206274   0.000000   \n",
       "Retired                         11925.0   0.152537   0.359555   0.000000   \n",
       "Housewife/-husband              11925.0   0.024822   0.155588   0.000000   \n",
       "\n",
       "                                       max  \n",
       "Rank improvement (normalized)    97.297295  \n",
       "Initial list rank (normalized)  100.000000  \n",
       "Age                              96.000000  \n",
       "High school                       1.000000  \n",
       "University                        1.000000  \n",
       "Phd                               1.000000  \n",
       "Architect                         1.000000  \n",
       "Businesswoman/-man                1.000000  \n",
       "Engineer                          1.000000  \n",
       "Lawyer                            1.000000  \n",
       "Civil administration              1.000000  \n",
       "Teacher                           1.000000  \n",
       "Employed                          1.000000  \n",
       "Self-employed                     1.000000  \n",
       "Student                           1.000000  \n",
       "Retired                           1.000000  \n",
       "Housewife/-husband                1.000000  "
      ]
     },
     "execution_count": 25,
     "metadata": {},
     "output_type": "execute_result"
    }
   ],
   "source": [
    "rdd=get_rdd_data(data,female=False)\n",
    "Table1_a_rdd=table1(rdd, dictionary_table1(), female=False)\n",
    "Table1_b_rdd=table1(rdd, dictionary_table1(), female=True)\n",
    "Table1_a_rdd"
   ]
  },
  {
   "cell_type": "markdown",
   "metadata": {},
   "source": [
    "### Summary Statistics for female council candidates in rdd-sample"
   ]
  },
  {
   "cell_type": "code",
   "execution_count": 26,
   "metadata": {},
   "outputs": [
    {
     "data": {
      "text/html": [
       "<div>\n",
       "<style scoped>\n",
       "    .dataframe tbody tr th:only-of-type {\n",
       "        vertical-align: middle;\n",
       "    }\n",
       "\n",
       "    .dataframe tbody tr th {\n",
       "        vertical-align: top;\n",
       "    }\n",
       "\n",
       "    .dataframe thead th {\n",
       "        text-align: right;\n",
       "    }\n",
       "</style>\n",
       "<table border=\"1\" class=\"dataframe\">\n",
       "  <thead>\n",
       "    <tr style=\"text-align: right;\">\n",
       "      <th></th>\n",
       "      <th>count</th>\n",
       "      <th>mean</th>\n",
       "      <th>std</th>\n",
       "      <th>min</th>\n",
       "      <th>max</th>\n",
       "    </tr>\n",
       "  </thead>\n",
       "  <tbody>\n",
       "    <tr>\n",
       "      <th>Rank improvement (normalized)</th>\n",
       "      <td>6472.0</td>\n",
       "      <td>0.106067</td>\n",
       "      <td>11.495141</td>\n",
       "      <td>-65.217392</td>\n",
       "      <td>87.096771</td>\n",
       "    </tr>\n",
       "    <tr>\n",
       "      <th>Initial list rank (normalized)</th>\n",
       "      <td>6472.0</td>\n",
       "      <td>37.888557</td>\n",
       "      <td>25.996939</td>\n",
       "      <td>1.075269</td>\n",
       "      <td>100.000000</td>\n",
       "    </tr>\n",
       "    <tr>\n",
       "      <th>Age</th>\n",
       "      <td>3229.0</td>\n",
       "      <td>51.300095</td>\n",
       "      <td>13.423151</td>\n",
       "      <td>18.000000</td>\n",
       "      <td>91.000000</td>\n",
       "    </tr>\n",
       "    <tr>\n",
       "      <th>High school</th>\n",
       "      <td>2723.0</td>\n",
       "      <td>0.653324</td>\n",
       "      <td>0.475999</td>\n",
       "      <td>0.000000</td>\n",
       "      <td>1.000000</td>\n",
       "    </tr>\n",
       "    <tr>\n",
       "      <th>University</th>\n",
       "      <td>2723.0</td>\n",
       "      <td>0.286816</td>\n",
       "      <td>0.452358</td>\n",
       "      <td>0.000000</td>\n",
       "      <td>1.000000</td>\n",
       "    </tr>\n",
       "    <tr>\n",
       "      <th>Phd</th>\n",
       "      <td>2723.0</td>\n",
       "      <td>0.059860</td>\n",
       "      <td>0.237272</td>\n",
       "      <td>0.000000</td>\n",
       "      <td>1.000000</td>\n",
       "    </tr>\n",
       "    <tr>\n",
       "      <th>Architect</th>\n",
       "      <td>2744.0</td>\n",
       "      <td>0.007289</td>\n",
       "      <td>0.085077</td>\n",
       "      <td>0.000000</td>\n",
       "      <td>1.000000</td>\n",
       "    </tr>\n",
       "    <tr>\n",
       "      <th>Businesswoman/-man</th>\n",
       "      <td>2744.0</td>\n",
       "      <td>0.063411</td>\n",
       "      <td>0.243745</td>\n",
       "      <td>0.000000</td>\n",
       "      <td>1.000000</td>\n",
       "    </tr>\n",
       "    <tr>\n",
       "      <th>Engineer</th>\n",
       "      <td>2744.0</td>\n",
       "      <td>0.017128</td>\n",
       "      <td>0.129773</td>\n",
       "      <td>0.000000</td>\n",
       "      <td>1.000000</td>\n",
       "    </tr>\n",
       "    <tr>\n",
       "      <th>Lawyer</th>\n",
       "      <td>2744.0</td>\n",
       "      <td>0.037536</td>\n",
       "      <td>0.190107</td>\n",
       "      <td>0.000000</td>\n",
       "      <td>1.000000</td>\n",
       "    </tr>\n",
       "    <tr>\n",
       "      <th>Civil administration</th>\n",
       "      <td>2744.0</td>\n",
       "      <td>0.061953</td>\n",
       "      <td>0.241115</td>\n",
       "      <td>0.000000</td>\n",
       "      <td>1.000000</td>\n",
       "    </tr>\n",
       "    <tr>\n",
       "      <th>Teacher</th>\n",
       "      <td>2744.0</td>\n",
       "      <td>0.075802</td>\n",
       "      <td>0.264729</td>\n",
       "      <td>0.000000</td>\n",
       "      <td>1.000000</td>\n",
       "    </tr>\n",
       "    <tr>\n",
       "      <th>Employed</th>\n",
       "      <td>3238.0</td>\n",
       "      <td>0.692094</td>\n",
       "      <td>0.461699</td>\n",
       "      <td>0.000000</td>\n",
       "      <td>1.000000</td>\n",
       "    </tr>\n",
       "    <tr>\n",
       "      <th>Self-employed</th>\n",
       "      <td>3238.0</td>\n",
       "      <td>0.040457</td>\n",
       "      <td>0.197059</td>\n",
       "      <td>0.000000</td>\n",
       "      <td>1.000000</td>\n",
       "    </tr>\n",
       "    <tr>\n",
       "      <th>Student</th>\n",
       "      <td>3238.0</td>\n",
       "      <td>0.046943</td>\n",
       "      <td>0.211549</td>\n",
       "      <td>0.000000</td>\n",
       "      <td>1.000000</td>\n",
       "    </tr>\n",
       "    <tr>\n",
       "      <th>Retired</th>\n",
       "      <td>3238.0</td>\n",
       "      <td>0.114886</td>\n",
       "      <td>0.318933</td>\n",
       "      <td>0.000000</td>\n",
       "      <td>1.000000</td>\n",
       "    </tr>\n",
       "    <tr>\n",
       "      <th>Housewife/-husband</th>\n",
       "      <td>3238.0</td>\n",
       "      <td>0.089561</td>\n",
       "      <td>0.285597</td>\n",
       "      <td>0.000000</td>\n",
       "      <td>1.000000</td>\n",
       "    </tr>\n",
       "  </tbody>\n",
       "</table>\n",
       "</div>"
      ],
      "text/plain": [
       "                                 count       mean        std        min  \\\n",
       "Rank improvement (normalized)   6472.0   0.106067  11.495141 -65.217392   \n",
       "Initial list rank (normalized)  6472.0  37.888557  25.996939   1.075269   \n",
       "Age                             3229.0  51.300095  13.423151  18.000000   \n",
       "High school                     2723.0   0.653324   0.475999   0.000000   \n",
       "University                      2723.0   0.286816   0.452358   0.000000   \n",
       "Phd                             2723.0   0.059860   0.237272   0.000000   \n",
       "Architect                       2744.0   0.007289   0.085077   0.000000   \n",
       "Businesswoman/-man              2744.0   0.063411   0.243745   0.000000   \n",
       "Engineer                        2744.0   0.017128   0.129773   0.000000   \n",
       "Lawyer                          2744.0   0.037536   0.190107   0.000000   \n",
       "Civil administration            2744.0   0.061953   0.241115   0.000000   \n",
       "Teacher                         2744.0   0.075802   0.264729   0.000000   \n",
       "Employed                        3238.0   0.692094   0.461699   0.000000   \n",
       "Self-employed                   3238.0   0.040457   0.197059   0.000000   \n",
       "Student                         3238.0   0.046943   0.211549   0.000000   \n",
       "Retired                         3238.0   0.114886   0.318933   0.000000   \n",
       "Housewife/-husband              3238.0   0.089561   0.285597   0.000000   \n",
       "\n",
       "                                       max  \n",
       "Rank improvement (normalized)    87.096771  \n",
       "Initial list rank (normalized)  100.000000  \n",
       "Age                              91.000000  \n",
       "High school                       1.000000  \n",
       "University                        1.000000  \n",
       "Phd                               1.000000  \n",
       "Architect                         1.000000  \n",
       "Businesswoman/-man                1.000000  \n",
       "Engineer                          1.000000  \n",
       "Lawyer                            1.000000  \n",
       "Civil administration              1.000000  \n",
       "Teacher                           1.000000  \n",
       "Employed                          1.000000  \n",
       "Self-employed                     1.000000  \n",
       "Student                           1.000000  \n",
       "Retired                           1.000000  \n",
       "Housewife/-husband                1.000000  "
      ]
     },
     "execution_count": 26,
     "metadata": {},
     "output_type": "execute_result"
    }
   ],
   "source": [
    "Table1_b_rdd"
   ]
  },
  {
   "cell_type": "markdown",
   "metadata": {},
   "source": [
    "When restricting the analysis to the rdd-sample one can observe that now women on average gain ranks, indicating a possible effect of a close gender-mixed mayoral election. This is further supporter by the t-test below. The test shows, that when restricting to the rdd-sample, female and male candidates do not differ significantly in their rank improvement. Unchanged is the result that female candidates remain better placed on the initial list."
   ]
  },
  {
   "cell_type": "code",
   "execution_count": 27,
   "metadata": {},
   "outputs": [
    {
     "data": {
      "text/html": [
       "<div>\n",
       "<style scoped>\n",
       "    .dataframe tbody tr th:only-of-type {\n",
       "        vertical-align: middle;\n",
       "    }\n",
       "\n",
       "    .dataframe tbody tr th {\n",
       "        vertical-align: top;\n",
       "    }\n",
       "\n",
       "    .dataframe thead th {\n",
       "        text-align: right;\n",
       "    }\n",
       "</style>\n",
       "<table border=\"1\" class=\"dataframe\">\n",
       "  <thead>\n",
       "    <tr style=\"text-align: right;\">\n",
       "      <th></th>\n",
       "      <th>Treatment</th>\n",
       "      <th>Control</th>\n",
       "      <th>Diff</th>\n",
       "      <th>Std. Error</th>\n",
       "      <th>Observations</th>\n",
       "    </tr>\n",
       "    <tr>\n",
       "      <th>Rank</th>\n",
       "      <th></th>\n",
       "      <th></th>\n",
       "      <th></th>\n",
       "      <th></th>\n",
       "      <th></th>\n",
       "    </tr>\n",
       "  </thead>\n",
       "  <tbody>\n",
       "    <tr>\n",
       "      <th>Rank improvement (normalized)</th>\n",
       "      <td>0.106</td>\n",
       "      <td>0.031000</td>\n",
       "      <td>0.075</td>\n",
       "      <td>0.183</td>\n",
       "      <td>23169.0</td>\n",
       "    </tr>\n",
       "    <tr>\n",
       "      <th>Initial list rank (normalized)</th>\n",
       "      <td>37.889</td>\n",
       "      <td>39.884998</td>\n",
       "      <td>-1.996***</td>\n",
       "      <td>0.389</td>\n",
       "      <td>23169.0</td>\n",
       "    </tr>\n",
       "  </tbody>\n",
       "</table>\n",
       "</div>"
      ],
      "text/plain": [
       "                                Treatment   Control        Diff  Std. Error  \\\n",
       "Rank                                                                          \n",
       "Rank improvement (normalized)       0.106   0.031000      0.075       0.183   \n",
       "Initial list rank (normalized)     37.889  39.884998  -1.996***       0.389   \n",
       "\n",
       "                                Observations  \n",
       "Rank                                          \n",
       "Rank improvement (normalized)        23169.0  \n",
       "Initial list rank (normalized)       23169.0  "
      ]
     },
     "execution_count": 27,
     "metadata": {},
     "output_type": "execute_result"
    }
   ],
   "source": [
    "tt_rank=t_test_prepare_rank(rdd)\n",
    "ttest(tt_rank,\"Rank\")"
   ]
  },
  {
   "cell_type": "markdown",
   "metadata": {},
   "source": [
    "##  6.2 Treatment Effect Heterogeneity with Regards to Council Candidate Characteristics<a name= \"Treatment_Effect_Heterogeneity_with_Regards_to_Council_Candidate_Characteristics\"></a>\n",
    "---"
   ]
  },
  {
   "cell_type": "markdown",
   "metadata": {},
   "source": [
    "Additional insight on how the election of a female mayor reduces anti-female voter bias can be gained by searching for heterogeneity in treatment effects. Voters may for example be more inclined to give additional votes to a female candidate if they have a higher degree of education, suggesting a higher qualification for the city council. To test this I perform the analysis as outlined in section 5.3.2 but include dummy variables that equal 1 if a candidate has a university-level education or a PhD degree of education. The results are presented below."
   ]
  },
  {
   "cell_type": "code",
   "execution_count": 28,
   "metadata": {},
   "outputs": [
    {
     "name": "stdout",
     "output_type": "stream",
     "text": [
      "The optimal bandwith according to Calonico, Cattaneo & Titiunik (2014) is: 15.871\n",
      "The optimal bandwith according to Imbens & Kalyanaraman (2011) is: 16.908\n",
      "The optimal bandwith according to Calonico, Cattaneo & Titiunik (2014) using a quadratic functional form is: 19.737\n"
     ]
    }
   ],
   "source": [
    "data_rdd_ex=prepare_ext(data_rdd_f)\n",
    "df_r_ex = DataFrame({\"margin_1\": FloatVector(data_rdd_ex[\"margin_1\"]), 'gewinn_norm': FloatVector(data_rdd_ex['gewinn_norm'])})\n",
    "CCT_bw_ext=rdrobust.rdbwselect_2014(df_r_ex.rx2('gewinn_norm'), df_r_ex.rx2('margin_1'), c = 0, p = 1, q = 0, deriv = 0,kernel = \"tri\", bwselect = \"CCT\")[2][0]\n",
    "IK_bw_ext=rdrobust.rdbwselect_2014(df_r_ex.rx2('gewinn_norm'), df_r_ex.rx2('margin_1'), c = 0, p = 1, q = 0, deriv = 0,kernel = \"tri\", bwselect = \"IK\")[2][0]\n",
    "CCT_quad_bw_ext=rdrobust.rdbwselect_2014(df_r_ex.rx2('gewinn_norm'), df_r_ex.rx2('margin_1'), c = 0, p = 2, q = 0, deriv = 0,kernel = \"tri\", bwselect = \"CCT\")[2][0]\n",
    "print(\"The optimal bandwith according to Calonico, Cattaneo & Titiunik (2014) is: {:5.3f}\".format(CCT_bw_ext))\n",
    "print(\"The optimal bandwith according to Imbens & Kalyanaraman (2011) is: {:5.3f}\".format(IK_bw_ext))\n",
    "print(\"The optimal bandwith according to Calonico, Cattaneo & Titiunik (2014) using a quadratic functional form is: {:5.3f}\".format(CCT_quad_bw_ext))"
   ]
  },
  {
   "cell_type": "code",
   "execution_count": 29,
   "metadata": {},
   "outputs": [],
   "source": [
    "model_ext_1=[data_rdd_ex,\"linear\",CCT_bw_ext,\"gewinn_norm\",\"CCT\"]\n",
    "model_ext_2=[data_rdd_ex,\"linear\",CCT_bw_ext/2,\"gewinn_norm\",\"CCT/2\"]\n",
    "model_ext_3=[data_rdd_ex,\"linear\",CCT_bw_ext*2,\"gewinn_norm\",\"CCT*2\"]\n",
    "model_ext_4=[data_rdd_ex,\"linear\",IK_bw_ext,\"gewinn_norm\",\"IK\"]\n",
    "model_ext_5=[data_rdd_ex,\"quadratic\",CCT_quad_bw_ext,\"gewinn_norm\",\"CCT\"]"
   ]
  },
  {
   "cell_type": "code",
   "execution_count": 30,
   "metadata": {},
   "outputs": [
    {
     "data": {
      "text/html": [
       "<div>\n",
       "<style scoped>\n",
       "    .dataframe tbody tr th:only-of-type {\n",
       "        vertical-align: middle;\n",
       "    }\n",
       "\n",
       "    .dataframe tbody tr th {\n",
       "        vertical-align: top;\n",
       "    }\n",
       "\n",
       "    .dataframe thead th {\n",
       "        text-align: right;\n",
       "    }\n",
       "</style>\n",
       "<table border=\"1\" class=\"dataframe\">\n",
       "  <thead>\n",
       "    <tr style=\"text-align: right;\">\n",
       "      <th></th>\n",
       "      <th>Female Mayor</th>\n",
       "      <th>Std.err_Female Mayor</th>\n",
       "      <th>University</th>\n",
       "      <th>Std.err_University</th>\n",
       "      <th>PhD</th>\n",
       "      <th>Std.err_PhD</th>\n",
       "      <th>Bandwidth type</th>\n",
       "      <th>Bandwidth size</th>\n",
       "      <th>Polynomial</th>\n",
       "      <th>Observations</th>\n",
       "      <th>Elections</th>\n",
       "      <th>Municipalities</th>\n",
       "      <th>Mean</th>\n",
       "      <th>Std.err (Mean)</th>\n",
       "    </tr>\n",
       "    <tr>\n",
       "      <th>Model</th>\n",
       "      <th></th>\n",
       "      <th></th>\n",
       "      <th></th>\n",
       "      <th></th>\n",
       "      <th></th>\n",
       "      <th></th>\n",
       "      <th></th>\n",
       "      <th></th>\n",
       "      <th></th>\n",
       "      <th></th>\n",
       "      <th></th>\n",
       "      <th></th>\n",
       "      <th></th>\n",
       "      <th></th>\n",
       "    </tr>\n",
       "  </thead>\n",
       "  <tbody>\n",
       "    <tr>\n",
       "      <th>(1)</th>\n",
       "      <td>5.48***</td>\n",
       "      <td>1.475</td>\n",
       "      <td>-0.295**</td>\n",
       "      <td>0.748</td>\n",
       "      <td>0.156</td>\n",
       "      <td>1.205</td>\n",
       "      <td>CCT</td>\n",
       "      <td>15.87</td>\n",
       "      <td>Linear</td>\n",
       "      <td>1069.0</td>\n",
       "      <td>54.0</td>\n",
       "      <td>42.0</td>\n",
       "      <td>0.31</td>\n",
       "      <td>10.083</td>\n",
       "    </tr>\n",
       "    <tr>\n",
       "      <th>(2)</th>\n",
       "      <td>5.764***</td>\n",
       "      <td>1.440</td>\n",
       "      <td>-0.746**</td>\n",
       "      <td>0.929</td>\n",
       "      <td>0.908</td>\n",
       "      <td>2.108</td>\n",
       "      <td>CCT/2</td>\n",
       "      <td>7.94</td>\n",
       "      <td>Linear</td>\n",
       "      <td>699.0</td>\n",
       "      <td>32.0</td>\n",
       "      <td>27.0</td>\n",
       "      <td>0.82</td>\n",
       "      <td>9.947</td>\n",
       "    </tr>\n",
       "    <tr>\n",
       "      <th>(3)</th>\n",
       "      <td>4.563***</td>\n",
       "      <td>1.156</td>\n",
       "      <td>-0.125**</td>\n",
       "      <td>0.667</td>\n",
       "      <td>-0.056*</td>\n",
       "      <td>0.921</td>\n",
       "      <td>CCT*2</td>\n",
       "      <td>31.74</td>\n",
       "      <td>Linear</td>\n",
       "      <td>1805.0</td>\n",
       "      <td>102.0</td>\n",
       "      <td>69.0</td>\n",
       "      <td>0.16</td>\n",
       "      <td>11.323</td>\n",
       "    </tr>\n",
       "    <tr>\n",
       "      <th>(4)</th>\n",
       "      <td>5.473***</td>\n",
       "      <td>1.526</td>\n",
       "      <td>-0.268**</td>\n",
       "      <td>0.740</td>\n",
       "      <td>0.105</td>\n",
       "      <td>1.179</td>\n",
       "      <td>IK</td>\n",
       "      <td>16.91</td>\n",
       "      <td>Linear</td>\n",
       "      <td>1091.0</td>\n",
       "      <td>56.0</td>\n",
       "      <td>44.0</td>\n",
       "      <td>0.36</td>\n",
       "      <td>10.142</td>\n",
       "    </tr>\n",
       "    <tr>\n",
       "      <th>(5)</th>\n",
       "      <td>5.342***</td>\n",
       "      <td>1.536</td>\n",
       "      <td>-0.664**</td>\n",
       "      <td>0.715</td>\n",
       "      <td>0.904</td>\n",
       "      <td>1.091</td>\n",
       "      <td>CCT</td>\n",
       "      <td>19.74</td>\n",
       "      <td>Quadratic</td>\n",
       "      <td>1213.0</td>\n",
       "      <td>63.0</td>\n",
       "      <td>47.0</td>\n",
       "      <td>0.60</td>\n",
       "      <td>10.632</td>\n",
       "    </tr>\n",
       "  </tbody>\n",
       "</table>\n",
       "</div>"
      ],
      "text/plain": [
       "      Female Mayor  Std.err_Female Mayor University  Std.err_University  \\\n",
       "Model                                                                     \n",
       "(1)        5.48***                 1.475   -0.295**               0.748   \n",
       "(2)       5.764***                 1.440   -0.746**               0.929   \n",
       "(3)       4.563***                 1.156   -0.125**               0.667   \n",
       "(4)       5.473***                 1.526   -0.268**               0.740   \n",
       "(5)       5.342***                 1.536   -0.664**               0.715   \n",
       "\n",
       "           PhD  Std.err_PhD Bandwidth type Bandwidth size Polynomial  \\\n",
       "Model                                                                  \n",
       "(1)      0.156        1.205            CCT          15.87     Linear   \n",
       "(2)      0.908        2.108          CCT/2           7.94     Linear   \n",
       "(3)    -0.056*        0.921          CCT*2          31.74     Linear   \n",
       "(4)      0.105        1.179             IK          16.91     Linear   \n",
       "(5)      0.904        1.091            CCT          19.74  Quadratic   \n",
       "\n",
       "       Observations  Elections  Municipalities  Mean  Std.err (Mean)  \n",
       "Model                                                                 \n",
       "(1)          1069.0       54.0            42.0  0.31          10.083  \n",
       "(2)           699.0       32.0            27.0  0.82           9.947  \n",
       "(3)          1805.0      102.0            69.0  0.16          11.323  \n",
       "(4)          1091.0       56.0            44.0  0.36          10.142  \n",
       "(5)          1213.0       63.0            47.0  0.60          10.632  "
      ]
     },
     "execution_count": 30,
     "metadata": {},
     "output_type": "execute_result"
    }
   ],
   "source": [
    "reg_tab_ext(model_ext_1,model_ext_2,model_ext_3,model_ext_4,model_ext_5)"
   ]
  },
  {
   "cell_type": "markdown",
   "metadata": {},
   "source": [
    "For all models, the table shows a significant negative effect of a university degree on average rank improvement, significant at a level of 5 percent. While the treatment effect of a female mayor is stronger for this subgroup of female candidates in the rdd-sample, the results suggest a backlash-effect against female council candidates with higher education by voters. However, this conclusion is premature, as just like different municipality characteristics (like anti-female voter bias) motivated the initial implementation of a regression discontinuity design, the fact that we observe a negative effect of higher qualification may originate from different preferences in the educational level of politicians. <br> In the online appendix Baskaran & Hessami (2018) relate individual candidate characteristics to their election performance by including corresponding characteristics as well. However, they also include those characteristics for the mayor of the municipality. When controlling for differences in educational levels between mayor and council candidates, a higher degree of education exerts a positive influence on female candidate performance. While their findings differ in statistical significance for model specifications these results in combination with my results above, suggest that municipalities may have a distinct preference with regards to the academic qualification of their politicians. However, a more detailed analysis may result in robust results and conclusive insight on that topic. "
   ]
  },
  {
   "cell_type": "markdown",
   "metadata": {},
   "source": [
    "---\n",
    "#  7. Critical Assessment and Conclusion <a name=\"Critical_Assessment_and_Conclusion\"></a>\n",
    "---"
   ]
  },
  {
   "cell_type": "markdown",
   "metadata": {},
   "source": [
    "To summarize, my findings generally support the results of Baskaran & Hessami (2018). Except for small deviations in standard errors for regression results, I was able to understand and replicate all key numerical results by the authors in an exact manner. Since the differences in standard errors are generally small and do not change the significance of results, and the fact that authors and I use the heteroscedastic clustered standard errors I attribute the difference to the fact that Baskaran & Hessami (2018) relied on Stata for their derivations. Economically, the authors applied the methodology of a regression discontinuity design in an intriguing setting. It is generally a considerable challenge to identify causal effects in election results. Through the application of a regression discontinuity design, such issues become solvable. To validate this approach the authors checked the necessary condition of a continuous running variable. Additionally, they tested the relevance of observable covariates in the treatment assignment. While this showed no significant differences, the selection of covariates deserves a closer look. While the characteristics of a municipality used by the authors serve as a good proxy to categorize municipalities, the inclusion of additional covariates, that capture the political climate within a municipality more accurately can yield additional robustness. While generally, all parties encourage the increased political participation of women, they differ to the extent to which they actively support it. To test this possible confound of political ideology, the authors analyze differences in party membership of mayor candidates.  Although this serves as a proxy for the general political climate in a municipality,  it only projects the *median* political climate. A possible additional covariate in this context can be an index of the previous party composition of a local council. If there are no significant differences observable this would further strengthen the result of Baskaran & Hessami (2008).<br>\n",
    "Concerning the bandwidth choice,  the authors provided strong evidence of a significant effect since they tested their model for a wide range of bandwidth choices. For normalized rank improvement as a dependent variable, all models show a significant treatment effect. Concerning the model where the gender of an elected council member is the outcome variable, it might be initially a disappointment to observe no statistically significant effect. However, as Baskaran & Hesssami (2008) point out, this is due to the effect that their average rank improvement will only result in elections for those candidates, with a good enough initial rank. Consequently, we only observe an effect of treatment on the margin. This however does not change the significance of the treatment as a whole due to the more accurate variable rank improvement. In this regard, it may prove worthwhile to revisit this experimental setting, when more data is available. \n",
    "Overall, the results of Baskaran & Hessami are very robust.\n",
    "Finally, it has to be highlighted that the authors worked very transparently. The required datasets and detailed descriptions of the collection procedure are available in the online appendix. The original Stata code used by the authors to produce all results in the original paper and the online appendix is also provided. That generally allowed me to understand choices of parameters, so that I could assess and apply them in a python environment accordingly.Through this and the expansion of python to R via rp2y I was able to find strong support for the findings of Baskaran & Hessami (2018)."
   ]
  },
  {
   "cell_type": "markdown",
   "metadata": {},
   "source": [
    "---\n",
    "#  8. References <a name=\"Keks\"></a>\n",
    "---"
   ]
  },
  {
   "cell_type": "markdown",
   "metadata": {},
   "source": [
    "* **Baskaran, T., & Hessami, Z. (2018).** Does the Election of a Female Leader Clear the Way for More Women in Politics? American economic journal. Economic policy, 10(3), 95-121. doi:10.1257/pol.20170045.\n",
    "<br>\n",
    "* **Calonico, S., Cattaneo, M. D., & Titiunik, R. (2014).** Robust Nonparametric Confidence Intervals for Regression-Discontinuity Designs: Robust Nonparametric Confidence Intervals. Econometrica, 82(6), 2295-2326. doi:10.3982/ECTA11757. \n",
    "<br>\n",
    "* **Eisenhauer, P. (2020).** Course project template, HumanCapitalAnalysis.\n",
    "<br>\n",
    "* **Gehlen, A. (2019).** Replication of Jason M. Lindo, Nicholas J. Sanders & Philip Oreopoulos (2010).\n",
    "<br>\n",
    "* **Imbens, G., & Kalyanaraman, K. (2011).** Optimal Bandwidth Choice for the Regression Discontinuity Estimator. The Review of economic studies, 79(3), 933-959. doi:10.1093/restud/rdr043. \n",
    "<br>\n",
    "* **Lee, D. S., & Lemieux, T. (2010).** Regression Discontinuity Designs in Economics. Journal of Economic Literature, 48(2), 281-355. doi:10.1257/jel.48.2.281. \n",
    "\n",
    "\n"
   ]
  }
 ],
 "metadata": {
  "kernelspec": {
   "display_name": "Python 3",
   "language": "python",
   "name": "python3"
  },
  "language_info": {
   "codemirror_mode": {
    "name": "ipython",
    "version": 3
   },
   "file_extension": ".py",
   "mimetype": "text/x-python",
   "name": "python",
   "nbconvert_exporter": "python",
   "pygments_lexer": "ipython3",
   "version": "3.7.7"
  }
 },
 "nbformat": 4,
 "nbformat_minor": 4
}
