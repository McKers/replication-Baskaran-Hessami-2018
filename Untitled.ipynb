{
 "cells": [
  {
   "cell_type": "markdown",
   "metadata": {},
   "source": [
    "## Replication of Thushyanthan Baskaran and Zohal Hessami (2018)\n",
    "\n",
    "This repository contains my replication of: \n",
    "\n",
    "* Baskaran, Thushyanthan, and Zohal Hessami. 2018. \"Does the Election of a Female Leader Clear the Way for More Women in Politics?\" American Economic Journal: Economic Policy, 10 (3): 95-121. DOI: 10.1257/pol.20170045\n",
    "\n",
    "Based on the commonly observed underrepresentation of women in politics Baskaran and Hessami (2018) analyze if the election of a female mayor exercises a positive effect on the number of women elected in a subsequent council election in the respective municipality. Using local election data from the German federal state Hesse and a regression discontinuity design, they find that the election of a female mayor decreases voter bias against female politicians and consequently increases the number of women in politics. The paper provides insight on the underrepresentation of women in politics due to discrimination and increases our understanding of ways to counteract female underrepresentation.\n",
    "\n",
    "The original paper and its corresponding data are available at: https://www.aeaweb.org/articles?id=10.1257/pol.20170045.\n",
    "\n",
    "## Reproducibility\n",
    "\n",
    "Link to Travis CI for my project: \n",
    "\n",
    "[![Build Status](https://travis-ci.org/HumanCapitalAnalysis/microeconometrics-course-project-McKers.svg?branch=master)](https://travis-ci.org/HumanCapitalAnalysis/microeconometrics-course-project-McKers)\n",
    "\n",
    "\n",
    "The notebook can be accessed by the following badges:\n",
    "\n",
    "<a href=\"https://nbviewer.jupyter.org/github/HumanCapitalAnalysis/microeconometrics-course-project-McKers/blob/master/Replication.ipynb\"\n",
    "   target=\"_parent\">\n",
    "   <img align=\"center\"\n",
    "  src=\"https://raw.githubusercontent.com/jupyter/design/master/logos/Badges/nbviewer_badge.png\"\n",
    "      width=\"109\" height=\"20\">\n",
    "</a>\n",
    "\n",
    "[![Binder](https://mybinder.org/badge_logo.svg)](https://mybinder.org/v2/gh/HumanCapitalAnalysis/microeconometrics-course-project-McKers/master?filepath=Replication.ipynb)\n",
    "\n",
    "\n",
    "## References\n",
    "\n",
    "> Baskaran, T., & Hessami, Z. (2018). Does the Election of a Female Leader Clear the Way for More Women in Politics? American economic journal. Economic policy, 10(3), 95-121. doi:10.1257/pol.20170045.\n",
    "\n",
    "> Calonico, S., Cattaneo, M. D., & Titiunik, R. (2014). Robust Nonparametric Confidence Intervals for Regression-Discontinuity Designs: Robust Nonparametric Confidence Intervals. Econometrica, 82(6), 2295-2326. doi:10.3982/ECTA11757. \n",
    "\n",
    "> Eisenhauer, P. (2020). Course project template, HumanCapitalAnalysis.\n",
    "\n",
    "> Gehlen, A. (2019). Replication of Jason M. Lindo, Nicholas J. Sanders & Philip Oreopoulos (2010).\n",
    "\n",
    "> Imbens, G., & Kalyanaraman, K. (2011). Optimal Bandwidth Choice for the Regression Discontinuity Estimator. The Review of economic studies, 79(3), 933-959. doi:10.1093/restud/rdr043. \n",
    "\n",
    "> Lee, D. S., & Lemieux, T. (2010). Regression Discontinuity Designs in Economics. Journal of Economic Literature, 48(2), 281-355. doi:10.1257/jel.48.2.281. \n"
   ]
  },
  {
   "cell_type": "code",
   "execution_count": null,
   "metadata": {},
   "outputs": [],
   "source": []
  }
 ],
 "metadata": {
  "kernelspec": {
   "display_name": "Python 3",
   "language": "python",
   "name": "python3"
  },
  "language_info": {
   "codemirror_mode": {
    "name": "ipython",
    "version": 3
   },
   "file_extension": ".py",
   "mimetype": "text/x-python",
   "name": "python",
   "nbconvert_exporter": "python",
   "pygments_lexer": "ipython3",
   "version": "3.7.9"
  }
 },
 "nbformat": 4,
 "nbformat_minor": 4
}
